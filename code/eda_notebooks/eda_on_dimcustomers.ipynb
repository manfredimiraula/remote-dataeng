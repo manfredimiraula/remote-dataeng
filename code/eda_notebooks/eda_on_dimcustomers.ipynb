{
 "cells": [
  {
   "cell_type": "code",
   "execution_count": 18,
   "metadata": {},
   "outputs": [],
   "source": [
    "import pandas as pd\n",
    "import matplotlib.pyplot as plt\n",
    "import seaborn as sns\n",
    "import sqlite3\n",
    "\n",
    "\n",
    "con = sqlite3.connect('../remote.db')"
   ]
  },
  {
   "cell_type": "code",
   "execution_count": 19,
   "metadata": {},
   "outputs": [],
   "source": [
    "dimcustomers = pd.read_sql_query(f\"select * from dimcustomer \",con=con)\n",
    "\n",
    "df = dimcustomers.copy()"
   ]
  },
  {
   "cell_type": "code",
   "execution_count": 20,
   "metadata": {},
   "outputs": [
    {
     "name": "stdout",
     "output_type": "stream",
     "text": [
      "<class 'pandas.core.frame.DataFrame'>\n",
      "RangeIndex: 18484 entries, 0 to 18483\n",
      "Data columns (total 30 columns):\n",
      " #   Column                Non-Null Count  Dtype  \n",
      "---  ------                --------------  -----  \n",
      " 0   index                 18484 non-null  int64  \n",
      " 1   CustomerKey           18484 non-null  float64\n",
      " 2   GeographyKey          18484 non-null  float64\n",
      " 3   CustomerAlternateKey  18484 non-null  object \n",
      " 4   Title                 101 non-null    object \n",
      " 5   FirstName             18484 non-null  object \n",
      " 6   MiddleName            10654 non-null  object \n",
      " 7   LastName              18484 non-null  object \n",
      " 8   NameStyle             18484 non-null  float64\n",
      " 9   BirthDate             18484 non-null  object \n",
      " 10  MaritalStatus         18484 non-null  object \n",
      " 11  Suffix                3 non-null      object \n",
      " 12  Gender                18484 non-null  object \n",
      " 13  EmailAddress          18484 non-null  object \n",
      " 14  YearlyIncome          18484 non-null  float64\n",
      " 15  TotalChildren         18484 non-null  float64\n",
      " 16  NumberChildrenAtHome  18484 non-null  float64\n",
      " 17  EnglishEducation      18484 non-null  object \n",
      " 18  SpanishEducation      18484 non-null  object \n",
      " 19  FrenchEducation       18484 non-null  object \n",
      " 20  EnglishOccupation     18484 non-null  object \n",
      " 21  SpanishOccupation     18484 non-null  object \n",
      " 22  FrenchOccupation      18484 non-null  object \n",
      " 23  HouseOwnerFlag        18484 non-null  float64\n",
      " 24  NumberCarsOwned       18484 non-null  float64\n",
      " 25  AddressLine1          18484 non-null  object \n",
      " 26  AddressLine2          312 non-null    object \n",
      " 27  Phone                 18484 non-null  object \n",
      " 28  DateFirstPurchase     18484 non-null  object \n",
      " 29  CommuteDistance       18484 non-null  object \n",
      "dtypes: float64(8), int64(1), object(21)\n",
      "memory usage: 4.2+ MB\n"
     ]
    }
   ],
   "source": [
    "df.info()"
   ]
  },
  {
   "cell_type": "code",
   "execution_count": 21,
   "metadata": {},
   "outputs": [
    {
     "data": {
      "text/html": [
       "<div>\n",
       "<style scoped>\n",
       "    .dataframe tbody tr th:only-of-type {\n",
       "        vertical-align: middle;\n",
       "    }\n",
       "\n",
       "    .dataframe tbody tr th {\n",
       "        vertical-align: top;\n",
       "    }\n",
       "\n",
       "    .dataframe thead th {\n",
       "        text-align: right;\n",
       "    }\n",
       "</style>\n",
       "<table border=\"1\" class=\"dataframe\">\n",
       "  <thead>\n",
       "    <tr style=\"text-align: right;\">\n",
       "      <th></th>\n",
       "      <th>index</th>\n",
       "      <th>CustomerKey</th>\n",
       "      <th>GeographyKey</th>\n",
       "      <th>CustomerAlternateKey</th>\n",
       "      <th>Title</th>\n",
       "      <th>FirstName</th>\n",
       "      <th>MiddleName</th>\n",
       "      <th>LastName</th>\n",
       "      <th>NameStyle</th>\n",
       "      <th>BirthDate</th>\n",
       "      <th>...</th>\n",
       "      <th>EnglishOccupation</th>\n",
       "      <th>SpanishOccupation</th>\n",
       "      <th>FrenchOccupation</th>\n",
       "      <th>HouseOwnerFlag</th>\n",
       "      <th>NumberCarsOwned</th>\n",
       "      <th>AddressLine1</th>\n",
       "      <th>AddressLine2</th>\n",
       "      <th>Phone</th>\n",
       "      <th>DateFirstPurchase</th>\n",
       "      <th>CommuteDistance</th>\n",
       "    </tr>\n",
       "  </thead>\n",
       "  <tbody>\n",
       "    <tr>\n",
       "      <th>0</th>\n",
       "      <td>0</td>\n",
       "      <td>11000.0</td>\n",
       "      <td>26.0</td>\n",
       "      <td>AW00011000</td>\n",
       "      <td>None</td>\n",
       "      <td>Jon</td>\n",
       "      <td>V</td>\n",
       "      <td>Yang</td>\n",
       "      <td>0.0</td>\n",
       "      <td>1971-06-10 00:00:00</td>\n",
       "      <td>...</td>\n",
       "      <td>Professional</td>\n",
       "      <td>Profesional</td>\n",
       "      <td>Cadre</td>\n",
       "      <td>1.0</td>\n",
       "      <td>0.0</td>\n",
       "      <td>3761 N. 14th St</td>\n",
       "      <td>None</td>\n",
       "      <td>1 (11) 500 555-0162</td>\n",
       "      <td>19/01/11</td>\n",
       "      <td>1-2 Miles</td>\n",
       "    </tr>\n",
       "    <tr>\n",
       "      <th>1</th>\n",
       "      <td>1</td>\n",
       "      <td>11001.0</td>\n",
       "      <td>37.0</td>\n",
       "      <td>AW00011001</td>\n",
       "      <td>None</td>\n",
       "      <td>Eugene</td>\n",
       "      <td>L</td>\n",
       "      <td>Huang</td>\n",
       "      <td>0.0</td>\n",
       "      <td>1976-10-05 00:00:00</td>\n",
       "      <td>...</td>\n",
       "      <td>Professional</td>\n",
       "      <td>Profesional</td>\n",
       "      <td>Cadre</td>\n",
       "      <td>0.0</td>\n",
       "      <td>1.0</td>\n",
       "      <td>2243 W St.</td>\n",
       "      <td>None</td>\n",
       "      <td>1 (11) 500 555-0110</td>\n",
       "      <td>15/01/11</td>\n",
       "      <td>0-1 Miles</td>\n",
       "    </tr>\n",
       "    <tr>\n",
       "      <th>2</th>\n",
       "      <td>2</td>\n",
       "      <td>11002.0</td>\n",
       "      <td>31.0</td>\n",
       "      <td>AW00011002</td>\n",
       "      <td>None</td>\n",
       "      <td>Ruben</td>\n",
       "      <td>None</td>\n",
       "      <td>Torres</td>\n",
       "      <td>0.0</td>\n",
       "      <td>1971-09-02 00:00:00</td>\n",
       "      <td>...</td>\n",
       "      <td>Professional</td>\n",
       "      <td>Profesional</td>\n",
       "      <td>Cadre</td>\n",
       "      <td>1.0</td>\n",
       "      <td>1.0</td>\n",
       "      <td>5844 Linden Land</td>\n",
       "      <td>None</td>\n",
       "      <td>1 (11) 500 555-0184</td>\n",
       "      <td>2011-07-01 00:00:00</td>\n",
       "      <td>2-5 Miles</td>\n",
       "    </tr>\n",
       "    <tr>\n",
       "      <th>3</th>\n",
       "      <td>3</td>\n",
       "      <td>11003.0</td>\n",
       "      <td>11.0</td>\n",
       "      <td>AW00011003</td>\n",
       "      <td>None</td>\n",
       "      <td>Christy</td>\n",
       "      <td>None</td>\n",
       "      <td>Zhu</td>\n",
       "      <td>0.0</td>\n",
       "      <td>14/08/73</td>\n",
       "      <td>...</td>\n",
       "      <td>Professional</td>\n",
       "      <td>Profesional</td>\n",
       "      <td>Cadre</td>\n",
       "      <td>0.0</td>\n",
       "      <td>1.0</td>\n",
       "      <td>1825 Village Pl.</td>\n",
       "      <td>None</td>\n",
       "      <td>1 (11) 500 555-0162</td>\n",
       "      <td>29/12/10</td>\n",
       "      <td>5-10 Miles</td>\n",
       "    </tr>\n",
       "    <tr>\n",
       "      <th>4</th>\n",
       "      <td>4</td>\n",
       "      <td>11004.0</td>\n",
       "      <td>19.0</td>\n",
       "      <td>AW00011004</td>\n",
       "      <td>None</td>\n",
       "      <td>Elizabeth</td>\n",
       "      <td>None</td>\n",
       "      <td>Johnson</td>\n",
       "      <td>0.0</td>\n",
       "      <td>1979-05-08 00:00:00</td>\n",
       "      <td>...</td>\n",
       "      <td>Professional</td>\n",
       "      <td>Profesional</td>\n",
       "      <td>Cadre</td>\n",
       "      <td>1.0</td>\n",
       "      <td>4.0</td>\n",
       "      <td>7553 Harness Circle</td>\n",
       "      <td>None</td>\n",
       "      <td>1 (11) 500 555-0131</td>\n",
       "      <td>23/01/11</td>\n",
       "      <td>1-2 Miles</td>\n",
       "    </tr>\n",
       "  </tbody>\n",
       "</table>\n",
       "<p>5 rows × 30 columns</p>\n",
       "</div>"
      ],
      "text/plain": [
       "   index  CustomerKey  GeographyKey CustomerAlternateKey Title  FirstName  \\\n",
       "0      0      11000.0          26.0           AW00011000  None        Jon   \n",
       "1      1      11001.0          37.0           AW00011001  None     Eugene   \n",
       "2      2      11002.0          31.0           AW00011002  None      Ruben   \n",
       "3      3      11003.0          11.0           AW00011003  None    Christy   \n",
       "4      4      11004.0          19.0           AW00011004  None  Elizabeth   \n",
       "\n",
       "  MiddleName LastName  NameStyle            BirthDate  ... EnglishOccupation  \\\n",
       "0          V     Yang        0.0  1971-06-10 00:00:00  ...      Professional   \n",
       "1          L    Huang        0.0  1976-10-05 00:00:00  ...      Professional   \n",
       "2       None   Torres        0.0  1971-09-02 00:00:00  ...      Professional   \n",
       "3       None      Zhu        0.0             14/08/73  ...      Professional   \n",
       "4       None  Johnson        0.0  1979-05-08 00:00:00  ...      Professional   \n",
       "\n",
       "  SpanishOccupation FrenchOccupation HouseOwnerFlag  NumberCarsOwned  \\\n",
       "0       Profesional            Cadre            1.0              0.0   \n",
       "1       Profesional            Cadre            0.0              1.0   \n",
       "2       Profesional            Cadre            1.0              1.0   \n",
       "3       Profesional            Cadre            0.0              1.0   \n",
       "4       Profesional            Cadre            1.0              4.0   \n",
       "\n",
       "          AddressLine1  AddressLine2                Phone  \\\n",
       "0      3761 N. 14th St          None  1 (11) 500 555-0162   \n",
       "1           2243 W St.          None  1 (11) 500 555-0110   \n",
       "2     5844 Linden Land          None  1 (11) 500 555-0184   \n",
       "3     1825 Village Pl.          None  1 (11) 500 555-0162   \n",
       "4  7553 Harness Circle          None  1 (11) 500 555-0131   \n",
       "\n",
       "     DateFirstPurchase CommuteDistance  \n",
       "0             19/01/11       1-2 Miles  \n",
       "1             15/01/11       0-1 Miles  \n",
       "2  2011-07-01 00:00:00       2-5 Miles  \n",
       "3             29/12/10      5-10 Miles  \n",
       "4             23/01/11       1-2 Miles  \n",
       "\n",
       "[5 rows x 30 columns]"
      ]
     },
     "execution_count": 21,
     "metadata": {},
     "output_type": "execute_result"
    }
   ],
   "source": [
    "df.head()"
   ]
  },
  {
   "cell_type": "code",
   "execution_count": 22,
   "metadata": {},
   "outputs": [
    {
     "data": {
      "text/plain": [
       "Index(['index', 'CustomerKey', 'GeographyKey', 'CustomerAlternateKey', 'Title',\n",
       "       'FirstName', 'MiddleName', 'LastName', 'NameStyle', 'BirthDate',\n",
       "       'MaritalStatus', 'Suffix', 'Gender', 'EmailAddress', 'YearlyIncome',\n",
       "       'TotalChildren', 'NumberChildrenAtHome', 'EnglishEducation',\n",
       "       'SpanishEducation', 'FrenchEducation', 'EnglishOccupation',\n",
       "       'SpanishOccupation', 'FrenchOccupation', 'HouseOwnerFlag',\n",
       "       'NumberCarsOwned', 'AddressLine1', 'AddressLine2', 'Phone',\n",
       "       'DateFirstPurchase', 'CommuteDistance'],\n",
       "      dtype='object')"
      ]
     },
     "execution_count": 22,
     "metadata": {},
     "output_type": "execute_result"
    }
   ],
   "source": [
    "df.columns"
   ]
  },
  {
   "cell_type": "code",
   "execution_count": 23,
   "metadata": {},
   "outputs": [
    {
     "data": {
      "text/html": [
       "<div>\n",
       "<style scoped>\n",
       "    .dataframe tbody tr th:only-of-type {\n",
       "        vertical-align: middle;\n",
       "    }\n",
       "\n",
       "    .dataframe tbody tr th {\n",
       "        vertical-align: top;\n",
       "    }\n",
       "\n",
       "    .dataframe thead th {\n",
       "        text-align: right;\n",
       "    }\n",
       "</style>\n",
       "<table border=\"1\" class=\"dataframe\">\n",
       "  <thead>\n",
       "    <tr style=\"text-align: right;\">\n",
       "      <th></th>\n",
       "      <th>index</th>\n",
       "      <th>CustomerKey</th>\n",
       "      <th>GeographyKey</th>\n",
       "      <th>NameStyle</th>\n",
       "      <th>YearlyIncome</th>\n",
       "      <th>TotalChildren</th>\n",
       "      <th>NumberChildrenAtHome</th>\n",
       "      <th>HouseOwnerFlag</th>\n",
       "      <th>NumberCarsOwned</th>\n",
       "    </tr>\n",
       "  </thead>\n",
       "  <tbody>\n",
       "    <tr>\n",
       "      <th>count</th>\n",
       "      <td>18484.000000</td>\n",
       "      <td>18484.000000</td>\n",
       "      <td>18484.000000</td>\n",
       "      <td>18484.0</td>\n",
       "      <td>18484.000000</td>\n",
       "      <td>18484.000000</td>\n",
       "      <td>18484.000000</td>\n",
       "      <td>18484.000000</td>\n",
       "      <td>18484.000000</td>\n",
       "    </tr>\n",
       "    <tr>\n",
       "      <th>mean</th>\n",
       "      <td>9241.500000</td>\n",
       "      <td>20241.500000</td>\n",
       "      <td>257.956287</td>\n",
       "      <td>0.0</td>\n",
       "      <td>57305.777970</td>\n",
       "      <td>1.844352</td>\n",
       "      <td>1.004058</td>\n",
       "      <td>0.676369</td>\n",
       "      <td>1.502705</td>\n",
       "    </tr>\n",
       "    <tr>\n",
       "      <th>std</th>\n",
       "      <td>5336.015523</td>\n",
       "      <td>5336.015523</td>\n",
       "      <td>196.531062</td>\n",
       "      <td>0.0</td>\n",
       "      <td>32285.841703</td>\n",
       "      <td>1.612408</td>\n",
       "      <td>1.522660</td>\n",
       "      <td>0.467874</td>\n",
       "      <td>1.138394</td>\n",
       "    </tr>\n",
       "    <tr>\n",
       "      <th>min</th>\n",
       "      <td>0.000000</td>\n",
       "      <td>11000.000000</td>\n",
       "      <td>2.000000</td>\n",
       "      <td>0.0</td>\n",
       "      <td>10000.000000</td>\n",
       "      <td>0.000000</td>\n",
       "      <td>0.000000</td>\n",
       "      <td>0.000000</td>\n",
       "      <td>0.000000</td>\n",
       "    </tr>\n",
       "    <tr>\n",
       "      <th>25%</th>\n",
       "      <td>4620.750000</td>\n",
       "      <td>15620.750000</td>\n",
       "      <td>62.000000</td>\n",
       "      <td>0.0</td>\n",
       "      <td>30000.000000</td>\n",
       "      <td>0.000000</td>\n",
       "      <td>0.000000</td>\n",
       "      <td>0.000000</td>\n",
       "      <td>1.000000</td>\n",
       "    </tr>\n",
       "    <tr>\n",
       "      <th>50%</th>\n",
       "      <td>9241.500000</td>\n",
       "      <td>20241.500000</td>\n",
       "      <td>240.000000</td>\n",
       "      <td>0.0</td>\n",
       "      <td>60000.000000</td>\n",
       "      <td>2.000000</td>\n",
       "      <td>0.000000</td>\n",
       "      <td>1.000000</td>\n",
       "      <td>2.000000</td>\n",
       "    </tr>\n",
       "    <tr>\n",
       "      <th>75%</th>\n",
       "      <td>13862.250000</td>\n",
       "      <td>24862.250000</td>\n",
       "      <td>345.000000</td>\n",
       "      <td>0.0</td>\n",
       "      <td>70000.000000</td>\n",
       "      <td>3.000000</td>\n",
       "      <td>2.000000</td>\n",
       "      <td>1.000000</td>\n",
       "      <td>2.000000</td>\n",
       "    </tr>\n",
       "    <tr>\n",
       "      <th>max</th>\n",
       "      <td>18483.000000</td>\n",
       "      <td>29483.000000</td>\n",
       "      <td>654.000000</td>\n",
       "      <td>0.0</td>\n",
       "      <td>170000.000000</td>\n",
       "      <td>5.000000</td>\n",
       "      <td>5.000000</td>\n",
       "      <td>1.000000</td>\n",
       "      <td>4.000000</td>\n",
       "    </tr>\n",
       "  </tbody>\n",
       "</table>\n",
       "</div>"
      ],
      "text/plain": [
       "              index   CustomerKey  GeographyKey  NameStyle   YearlyIncome  \\\n",
       "count  18484.000000  18484.000000  18484.000000    18484.0   18484.000000   \n",
       "mean    9241.500000  20241.500000    257.956287        0.0   57305.777970   \n",
       "std     5336.015523   5336.015523    196.531062        0.0   32285.841703   \n",
       "min        0.000000  11000.000000      2.000000        0.0   10000.000000   \n",
       "25%     4620.750000  15620.750000     62.000000        0.0   30000.000000   \n",
       "50%     9241.500000  20241.500000    240.000000        0.0   60000.000000   \n",
       "75%    13862.250000  24862.250000    345.000000        0.0   70000.000000   \n",
       "max    18483.000000  29483.000000    654.000000        0.0  170000.000000   \n",
       "\n",
       "       TotalChildren  NumberChildrenAtHome  HouseOwnerFlag  NumberCarsOwned  \n",
       "count   18484.000000          18484.000000    18484.000000     18484.000000  \n",
       "mean        1.844352              1.004058        0.676369         1.502705  \n",
       "std         1.612408              1.522660        0.467874         1.138394  \n",
       "min         0.000000              0.000000        0.000000         0.000000  \n",
       "25%         0.000000              0.000000        0.000000         1.000000  \n",
       "50%         2.000000              0.000000        1.000000         2.000000  \n",
       "75%         3.000000              2.000000        1.000000         2.000000  \n",
       "max         5.000000              5.000000        1.000000         4.000000  "
      ]
     },
     "execution_count": 23,
     "metadata": {},
     "output_type": "execute_result"
    }
   ],
   "source": [
    "df.describe()"
   ]
  },
  {
   "cell_type": "code",
   "execution_count": 24,
   "metadata": {},
   "outputs": [
    {
     "data": {
      "text/plain": [
       "True"
      ]
     },
     "execution_count": 24,
     "metadata": {},
     "output_type": "execute_result"
    }
   ],
   "source": [
    "df.CustomerKey.is_unique"
   ]
  },
  {
   "cell_type": "code",
   "execution_count": 25,
   "metadata": {},
   "outputs": [
    {
     "data": {
      "text/plain": [
       "<AxesSubplot:>"
      ]
     },
     "execution_count": 25,
     "metadata": {},
     "output_type": "execute_result"
    },
    {
     "data": {
      "image/png": "[encoded data removed]",
      "text/plain": [
       "<Figure size 432x288 with 1 Axes>"
      ]
     },
     "metadata": {
      "needs_background": "light"
     },
     "output_type": "display_data"
    }
   ],
   "source": [
    "img = df.groupby('NumberCarsOwned', as_index = False)['YearlyIncome'].mean()\n",
    "\n",
    "img.plot.bar()"
   ]
  },
  {
   "cell_type": "code",
   "execution_count": 26,
   "metadata": {},
   "outputs": [
    {
     "data": {
      "text/plain": [
       "<AxesSubplot:>"
      ]
     },
     "execution_count": 26,
     "metadata": {},
     "output_type": "execute_result"
    },
    {
     "data": {
      "image/png": "[encoded data removed]",
      "text/plain": [
       "<Figure size 432x288 with 1 Axes>"
      ]
     },
     "metadata": {
      "needs_background": "light"
     },
     "output_type": "display_data"
    }
   ],
   "source": [
    "img = df.groupby('HouseOwnerFlag', as_index = False)['YearlyIncome'].mean()\n",
    "\n",
    "img.plot.bar()"
   ]
  },
  {
   "cell_type": "code",
   "execution_count": 27,
   "metadata": {},
   "outputs": [
    {
     "data": {
      "text/plain": [
       "<AxesSubplot:>"
      ]
     },
     "execution_count": 27,
     "metadata": {},
     "output_type": "execute_result"
    },
    {
     "data": {
      "image/png": "[encoded data removed]",
      "text/plain": [
       "<Figure size 432x288 with 1 Axes>"
      ]
     },
     "metadata": {
      "needs_background": "light"
     },
     "output_type": "display_data"
    }
   ],
   "source": [
    "img = df.groupby('TotalChildren', as_index = False)['YearlyIncome'].mean()\n",
    "\n",
    "img.plot.bar()"
   ]
  },
  {
   "cell_type": "code",
   "execution_count": null,
   "metadata": {},
   "outputs": [],
   "source": []
  }
 ],
 "metadata": {
  "interpreter": {
   "hash": "235a8b4d5a1c8969e3f7a7275dc5df41558e4b2db3942be74c344d4b21c0fe11"
  },
  "kernelspec": {
   "display_name": "Python 3.8.12 ('remote')",
   "language": "python",
   "name": "python3"
  },
  "language_info": {
   "codemirror_mode": {
    "name": "ipython",
    "version": 3
   },
   "file_extension": ".py",
   "mimetype": "text/x-python",
   "name": "python",
   "nbconvert_exporter": "python",
   "pygments_lexer": "ipython3",
   "version": "3.8.12"
  },
  "orig_nbformat": 4
 },
 "nbformat": 4,
 "nbformat_minor": 2
}
