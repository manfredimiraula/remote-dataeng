{
 "cells": [
  {
   "cell_type": "code",
   "execution_count": 1,
   "metadata": {},
   "outputs": [],
   "source": [
    "import pandas as pd\n",
    "import numpy as np\n",
    "import matplotlib.pyplot as plt\n",
    "import seaborn as sns\n",
    "import sqlite3\n",
    "\n",
    "\n",
    "con = sqlite3.connect('../remote.db')"
   ]
  },
  {
   "cell_type": "code",
   "execution_count": 2,
   "metadata": {},
   "outputs": [],
   "source": [
    "factfinance = pd.read_sql_query(f\"select * from factfinance \",con=con)\n",
    "\n",
    "df = factfinance.copy()"
   ]
  },
  {
   "cell_type": "code",
   "execution_count": 3,
   "metadata": {},
   "outputs": [
    {
     "name": "stdout",
     "output_type": "stream",
     "text": [
      "<class 'pandas.core.frame.DataFrame'>\n",
      "RangeIndex: 39409 entries, 0 to 39408\n",
      "Data columns (total 9 columns):\n",
      " #   Column              Non-Null Count  Dtype  \n",
      "---  ------              --------------  -----  \n",
      " 0   index               39409 non-null  int64  \n",
      " 1   FinanceKey          39409 non-null  float64\n",
      " 2   DateKey             39409 non-null  float64\n",
      " 3   OrganizationKey     39409 non-null  float64\n",
      " 4   DepartmentGroupKey  39409 non-null  float64\n",
      " 5   ScenarioKey         39409 non-null  float64\n",
      " 6   AccountKey          39409 non-null  float64\n",
      " 7   Amount              39409 non-null  float64\n",
      " 8   Date                39409 non-null  object \n",
      "dtypes: float64(7), int64(1), object(1)\n",
      "memory usage: 2.7+ MB\n"
     ]
    }
   ],
   "source": [
    "df.info()"
   ]
  },
  {
   "cell_type": "code",
   "execution_count": 4,
   "metadata": {},
   "outputs": [
    {
     "data": {
      "text/html": [
       "<div>\n",
       "<style scoped>\n",
       "    .dataframe tbody tr th:only-of-type {\n",
       "        vertical-align: middle;\n",
       "    }\n",
       "\n",
       "    .dataframe tbody tr th {\n",
       "        vertical-align: top;\n",
       "    }\n",
       "\n",
       "    .dataframe thead th {\n",
       "        text-align: right;\n",
       "    }\n",
       "</style>\n",
       "<table border=\"1\" class=\"dataframe\">\n",
       "  <thead>\n",
       "    <tr style=\"text-align: right;\">\n",
       "      <th></th>\n",
       "      <th>index</th>\n",
       "      <th>FinanceKey</th>\n",
       "      <th>DateKey</th>\n",
       "      <th>OrganizationKey</th>\n",
       "      <th>DepartmentGroupKey</th>\n",
       "      <th>ScenarioKey</th>\n",
       "      <th>AccountKey</th>\n",
       "      <th>Amount</th>\n",
       "      <th>Date</th>\n",
       "    </tr>\n",
       "  </thead>\n",
       "  <tbody>\n",
       "    <tr>\n",
       "      <th>0</th>\n",
       "      <td>0</td>\n",
       "      <td>1.0</td>\n",
       "      <td>20101229.0</td>\n",
       "      <td>3.0</td>\n",
       "      <td>1.0</td>\n",
       "      <td>1.0</td>\n",
       "      <td>60.0</td>\n",
       "      <td>22080.0</td>\n",
       "      <td>2010-12-29 00:00:00.000000</td>\n",
       "    </tr>\n",
       "    <tr>\n",
       "      <th>1</th>\n",
       "      <td>1</td>\n",
       "      <td>2.0</td>\n",
       "      <td>20101229.0</td>\n",
       "      <td>3.0</td>\n",
       "      <td>1.0</td>\n",
       "      <td>2.0</td>\n",
       "      <td>60.0</td>\n",
       "      <td>20200.0</td>\n",
       "      <td>2010-12-29 00:00:00.000000</td>\n",
       "    </tr>\n",
       "    <tr>\n",
       "      <th>2</th>\n",
       "      <td>2</td>\n",
       "      <td>3.0</td>\n",
       "      <td>20101229.0</td>\n",
       "      <td>3.0</td>\n",
       "      <td>1.0</td>\n",
       "      <td>2.0</td>\n",
       "      <td>61.0</td>\n",
       "      <td>2000.0</td>\n",
       "      <td>2010-12-29 00:00:00.000000</td>\n",
       "    </tr>\n",
       "    <tr>\n",
       "      <th>3</th>\n",
       "      <td>3</td>\n",
       "      <td>4.0</td>\n",
       "      <td>20101229.0</td>\n",
       "      <td>3.0</td>\n",
       "      <td>1.0</td>\n",
       "      <td>1.0</td>\n",
       "      <td>61.0</td>\n",
       "      <td>2208.0</td>\n",
       "      <td>2010-12-29 00:00:00.000000</td>\n",
       "    </tr>\n",
       "    <tr>\n",
       "      <th>4</th>\n",
       "      <td>4</td>\n",
       "      <td>5.0</td>\n",
       "      <td>20101229.0</td>\n",
       "      <td>3.0</td>\n",
       "      <td>1.0</td>\n",
       "      <td>1.0</td>\n",
       "      <td>62.0</td>\n",
       "      <td>1546.0</td>\n",
       "      <td>2010-12-29 00:00:00.000000</td>\n",
       "    </tr>\n",
       "    <tr>\n",
       "      <th>...</th>\n",
       "      <td>...</td>\n",
       "      <td>...</td>\n",
       "      <td>...</td>\n",
       "      <td>...</td>\n",
       "      <td>...</td>\n",
       "      <td>...</td>\n",
       "      <td>...</td>\n",
       "      <td>...</td>\n",
       "      <td>...</td>\n",
       "    </tr>\n",
       "    <tr>\n",
       "      <th>39404</th>\n",
       "      <td>39404</td>\n",
       "      <td>39405.0</td>\n",
       "      <td>20131228.0</td>\n",
       "      <td>13.0</td>\n",
       "      <td>7.0</td>\n",
       "      <td>1.0</td>\n",
       "      <td>42.0</td>\n",
       "      <td>225000.0</td>\n",
       "      <td>2013-12-28 00:00:00.000000</td>\n",
       "    </tr>\n",
       "    <tr>\n",
       "      <th>39405</th>\n",
       "      <td>39405</td>\n",
       "      <td>39406.0</td>\n",
       "      <td>20131228.0</td>\n",
       "      <td>13.0</td>\n",
       "      <td>7.0</td>\n",
       "      <td>1.0</td>\n",
       "      <td>43.0</td>\n",
       "      <td>-225000.0</td>\n",
       "      <td>2013-12-28 00:00:00.000000</td>\n",
       "    </tr>\n",
       "    <tr>\n",
       "      <th>39406</th>\n",
       "      <td>39406</td>\n",
       "      <td>39407.0</td>\n",
       "      <td>20131228.0</td>\n",
       "      <td>13.0</td>\n",
       "      <td>7.0</td>\n",
       "      <td>1.0</td>\n",
       "      <td>85.0</td>\n",
       "      <td>-1957.7</td>\n",
       "      <td>2013-12-28 00:00:00.000000</td>\n",
       "    </tr>\n",
       "    <tr>\n",
       "      <th>39407</th>\n",
       "      <td>39407</td>\n",
       "      <td>39408.0</td>\n",
       "      <td>20131228.0</td>\n",
       "      <td>13.0</td>\n",
       "      <td>7.0</td>\n",
       "      <td>1.0</td>\n",
       "      <td>92.0</td>\n",
       "      <td>17619.3</td>\n",
       "      <td>2013-12-28 00:00:00.000000</td>\n",
       "    </tr>\n",
       "    <tr>\n",
       "      <th>39408</th>\n",
       "      <td>39408</td>\n",
       "      <td>39409.0</td>\n",
       "      <td>20131228.0</td>\n",
       "      <td>13.0</td>\n",
       "      <td>7.0</td>\n",
       "      <td>1.0</td>\n",
       "      <td>93.0</td>\n",
       "      <td>-19577.0</td>\n",
       "      <td>2013-12-28 00:00:00.000000</td>\n",
       "    </tr>\n",
       "  </tbody>\n",
       "</table>\n",
       "<p>39409 rows × 9 columns</p>\n",
       "</div>"
      ],
      "text/plain": [
       "       index  FinanceKey     DateKey  OrganizationKey  DepartmentGroupKey  \\\n",
       "0          0         1.0  20101229.0              3.0                 1.0   \n",
       "1          1         2.0  20101229.0              3.0                 1.0   \n",
       "2          2         3.0  20101229.0              3.0                 1.0   \n",
       "3          3         4.0  20101229.0              3.0                 1.0   \n",
       "4          4         5.0  20101229.0              3.0                 1.0   \n",
       "...      ...         ...         ...              ...                 ...   \n",
       "39404  39404     39405.0  20131228.0             13.0                 7.0   \n",
       "39405  39405     39406.0  20131228.0             13.0                 7.0   \n",
       "39406  39406     39407.0  20131228.0             13.0                 7.0   \n",
       "39407  39407     39408.0  20131228.0             13.0                 7.0   \n",
       "39408  39408     39409.0  20131228.0             13.0                 7.0   \n",
       "\n",
       "       ScenarioKey  AccountKey    Amount                        Date  \n",
       "0              1.0        60.0   22080.0  2010-12-29 00:00:00.000000  \n",
       "1              2.0        60.0   20200.0  2010-12-29 00:00:00.000000  \n",
       "2              2.0        61.0    2000.0  2010-12-29 00:00:00.000000  \n",
       "3              1.0        61.0    2208.0  2010-12-29 00:00:00.000000  \n",
       "4              1.0        62.0    1546.0  2010-12-29 00:00:00.000000  \n",
       "...            ...         ...       ...                         ...  \n",
       "39404          1.0        42.0  225000.0  2013-12-28 00:00:00.000000  \n",
       "39405          1.0        43.0 -225000.0  2013-12-28 00:00:00.000000  \n",
       "39406          1.0        85.0   -1957.7  2013-12-28 00:00:00.000000  \n",
       "39407          1.0        92.0   17619.3  2013-12-28 00:00:00.000000  \n",
       "39408          1.0        93.0  -19577.0  2013-12-28 00:00:00.000000  \n",
       "\n",
       "[39409 rows x 9 columns]"
      ]
     },
     "execution_count": 4,
     "metadata": {},
     "output_type": "execute_result"
    }
   ],
   "source": [
    "df"
   ]
  },
  {
   "cell_type": "code",
   "execution_count": 5,
   "metadata": {},
   "outputs": [
    {
     "data": {
      "text/plain": [
       "True"
      ]
     },
     "execution_count": 5,
     "metadata": {},
     "output_type": "execute_result"
    }
   ],
   "source": [
    "df.FinanceKey.is_unique"
   ]
  },
  {
   "cell_type": "code",
   "execution_count": 6,
   "metadata": {},
   "outputs": [
    {
     "data": {
      "text/plain": [
       "count       39409.000000\n",
       "mean        34475.384118\n",
       "std        164041.892959\n",
       "min      -1121918.000000\n",
       "25%           107.140000\n",
       "50%           380.000000\n",
       "75%          9056.250000\n",
       "max       4820988.000000\n",
       "Name: Amount, dtype: object"
      ]
     },
     "execution_count": 6,
     "metadata": {},
     "output_type": "execute_result"
    }
   ],
   "source": [
    "df['Amount'].describe().apply(lambda x: format(x, 'f'))"
   ]
  },
  {
   "cell_type": "code",
   "execution_count": 7,
   "metadata": {},
   "outputs": [
    {
     "data": {
      "text/plain": [
       "([0,\n",
       "  1,\n",
       "  2,\n",
       "  3,\n",
       "  4,\n",
       "  5,\n",
       "  6,\n",
       "  7,\n",
       "  8,\n",
       "  9,\n",
       "  10,\n",
       "  11,\n",
       "  12,\n",
       "  13,\n",
       "  14,\n",
       "  15,\n",
       "  16,\n",
       "  17,\n",
       "  18,\n",
       "  19,\n",
       "  20,\n",
       "  21,\n",
       "  22,\n",
       "  23,\n",
       "  24,\n",
       "  25,\n",
       "  26,\n",
       "  27,\n",
       "  28,\n",
       "  29,\n",
       "  30,\n",
       "  31,\n",
       "  32,\n",
       "  33,\n",
       "  34,\n",
       "  35,\n",
       "  36,\n",
       "  37,\n",
       "  38],\n",
       " [Text(0, 0, ''),\n",
       "  Text(0, 0, ''),\n",
       "  Text(0, 0, ''),\n",
       "  Text(0, 0, ''),\n",
       "  Text(0, 0, ''),\n",
       "  Text(0, 0, ''),\n",
       "  Text(0, 0, ''),\n",
       "  Text(0, 0, ''),\n",
       "  Text(0, 0, ''),\n",
       "  Text(0, 0, ''),\n",
       "  Text(0, 0, ''),\n",
       "  Text(0, 0, ''),\n",
       "  Text(0, 0, ''),\n",
       "  Text(0, 0, ''),\n",
       "  Text(0, 0, ''),\n",
       "  Text(0, 0, ''),\n",
       "  Text(0, 0, ''),\n",
       "  Text(0, 0, ''),\n",
       "  Text(0, 0, ''),\n",
       "  Text(0, 0, ''),\n",
       "  Text(0, 0, ''),\n",
       "  Text(0, 0, ''),\n",
       "  Text(0, 0, ''),\n",
       "  Text(0, 0, ''),\n",
       "  Text(0, 0, ''),\n",
       "  Text(0, 0, ''),\n",
       "  Text(0, 0, ''),\n",
       "  Text(0, 0, ''),\n",
       "  Text(0, 0, ''),\n",
       "  Text(0, 0, ''),\n",
       "  Text(0, 0, ''),\n",
       "  Text(0, 0, ''),\n",
       "  Text(0, 0, ''),\n",
       "  Text(0, 0, ''),\n",
       "  Text(0, 0, ''),\n",
       "  Text(0, 0, ''),\n",
       "  Text(0, 0, ''),\n",
       "  Text(0, 0, ''),\n",
       "  Text(0, 0, '')])"
      ]
     },
     "execution_count": 7,
     "metadata": {},
     "output_type": "execute_result"
    },
    {
     "data": {
      "image/png": "[encoded data removed]",
      "text/plain": [
       "<Figure size 432x288 with 1 Axes>"
      ]
     },
     "metadata": {
      "needs_background": "light"
     },
     "output_type": "display_data"
    }
   ],
   "source": [
    "img = df.groupby('Date', as_index = False)['Amount'].sum()\n",
    "plt.plot(img.Date, img.Amount)\n",
    "plt.xticks( rotation='vertical')"
   ]
  },
  {
   "cell_type": "code",
   "execution_count": 9,
   "metadata": {},
   "outputs": [
    {
     "data": {
      "text/plain": [
       "array([1., 2.])"
      ]
     },
     "execution_count": 9,
     "metadata": {},
     "output_type": "execute_result"
    }
   ],
   "source": [
    "df.ScenarioKey.unique()"
   ]
  },
  {
   "cell_type": "code",
   "execution_count": 11,
   "metadata": {},
   "outputs": [
    {
     "data": {
      "text/plain": [
       "array([ 60.,  61.,  62.,  65.,  66.,  67.,  68.,  69.,  71.,  73.,  74.,\n",
       "        76.,  77.,  78.,  80.,  81.,  82.,  83.,  84.,  85.,  87.,  89.,\n",
       "        90.,  91.,  92.,  94.,  96.,  12.,  52.,  53.,  56.,  57.,  63.,\n",
       "        72.,  97.,  99., 101.,   4.,   6.,   7.,   8.,  13.,  14.,  15.,\n",
       "        18.,  19.,  20.,  21.,  22.,  23.,  24.,  28.,  29.,  31.,  32.,\n",
       "        33.,  34.,  35.,  37.,  38.,  39.,  40.,  42.,  43.,  45.,  46.,\n",
       "       100.,  10.,  11.,  54.,  93.])"
      ]
     },
     "execution_count": 11,
     "metadata": {},
     "output_type": "execute_result"
    }
   ],
   "source": [
    "df.AccountKey.unique()"
   ]
  },
  {
   "cell_type": "code",
   "execution_count": null,
   "metadata": {},
   "outputs": [],
   "source": []
  }
 ],
 "metadata": {
  "interpreter": {
   "hash": "235a8b4d5a1c8969e3f7a7275dc5df41558e4b2db3942be74c344d4b21c0fe11"
  },
  "kernelspec": {
   "display_name": "Python 3.8.12 ('remote')",
   "language": "python",
   "name": "python3"
  },
  "language_info": {
   "codemirror_mode": {
    "name": "ipython",
    "version": 3
   },
   "file_extension": ".py",
   "mimetype": "text/x-python",
   "name": "python",
   "nbconvert_exporter": "python",
   "pygments_lexer": "ipython3",
   "version": "3.8.12"
  },
  "orig_nbformat": 4
 },
 "nbformat": 4,
 "nbformat_minor": 2
}
