{
 "cells": [
  {
   "cell_type": "code",
   "execution_count": 1,
   "metadata": {},
   "outputs": [],
   "source": [
    "import pandas as pd\n",
    "import numpy as np\n",
    "import matplotlib.pyplot as plt\n",
    "import seaborn as sns\n",
    "import sqlite3\n",
    "\n",
    "\n",
    "sqlite3.connect('remote.db')\n",
    "conn_s = sqlite3.connect('remote.db')"
   ]
  },
  {
   "cell_type": "code",
   "execution_count": 2,
   "metadata": {},
   "outputs": [],
   "source": [
    "factresellersales = pd.read_sql_query(f\"select * from factresellersales \",con=conn_s)\n",
    "\n",
    "df = factresellersales.copy()"
   ]
  },
  {
   "cell_type": "code",
   "execution_count": 3,
   "metadata": {},
   "outputs": [
    {
     "name": "stdout",
     "output_type": "stream",
     "text": [
      "<class 'pandas.core.frame.DataFrame'>\n",
      "RangeIndex: 60855 entries, 0 to 60854\n",
      "Data columns (total 28 columns):\n",
      " #   Column                 Non-Null Count  Dtype  \n",
      "---  ------                 --------------  -----  \n",
      " 0   index                  60855 non-null  int64  \n",
      " 1   ProductKey             60855 non-null  float64\n",
      " 2   OrderDateKey           60855 non-null  float64\n",
      " 3   DueDateKey             60855 non-null  float64\n",
      " 4   ShipDateKey            60855 non-null  float64\n",
      " 5   ResellerKey            60855 non-null  float64\n",
      " 6   EmployeeKey            60855 non-null  float64\n",
      " 7   PromotionKey           60855 non-null  float64\n",
      " 8   CurrencyKey            60855 non-null  float64\n",
      " 9   SalesTerritoryKey      60855 non-null  float64\n",
      " 10  SalesOrderNumber       60855 non-null  object \n",
      " 11  SalesOrderLineNumber   60855 non-null  float64\n",
      " 12  RevisionNumber         60855 non-null  float64\n",
      " 13  OrderQuantity          60855 non-null  float64\n",
      " 14  UnitPrice              60855 non-null  float64\n",
      " 15  ExtendedAmount         60855 non-null  float64\n",
      " 16  UnitPriceDiscountPct   60855 non-null  float64\n",
      " 17  DiscountAmount         60855 non-null  float64\n",
      " 18  ProductStandardCost    60855 non-null  float64\n",
      " 19  TotalProductCost       60855 non-null  float64\n",
      " 20  SalesAmount            60855 non-null  float64\n",
      " 21  TaxAmt                 60855 non-null  float64\n",
      " 22  Freight                60855 non-null  float64\n",
      " 23  CarrierTrackingNumber  60855 non-null  object \n",
      " 24  CustomerPONumber       60855 non-null  object \n",
      " 25  OrderDate              60855 non-null  object \n",
      " 26  DueDate                60855 non-null  object \n",
      " 27  ShipDate               60855 non-null  object \n",
      "dtypes: float64(21), int64(1), object(6)\n",
      "memory usage: 13.0+ MB\n"
     ]
    }
   ],
   "source": [
    "df.info()"
   ]
  },
  {
   "cell_type": "code",
   "execution_count": 4,
   "metadata": {},
   "outputs": [
    {
     "data": {
      "text/html": [
       "<div>\n",
       "<style scoped>\n",
       "    .dataframe tbody tr th:only-of-type {\n",
       "        vertical-align: middle;\n",
       "    }\n",
       "\n",
       "    .dataframe tbody tr th {\n",
       "        vertical-align: top;\n",
       "    }\n",
       "\n",
       "    .dataframe thead th {\n",
       "        text-align: right;\n",
       "    }\n",
       "</style>\n",
       "<table border=\"1\" class=\"dataframe\">\n",
       "  <thead>\n",
       "    <tr style=\"text-align: right;\">\n",
       "      <th></th>\n",
       "      <th>index</th>\n",
       "      <th>ProductKey</th>\n",
       "      <th>OrderDateKey</th>\n",
       "      <th>DueDateKey</th>\n",
       "      <th>ShipDateKey</th>\n",
       "      <th>ResellerKey</th>\n",
       "      <th>EmployeeKey</th>\n",
       "      <th>PromotionKey</th>\n",
       "      <th>CurrencyKey</th>\n",
       "      <th>SalesTerritoryKey</th>\n",
       "      <th>...</th>\n",
       "      <th>ProductStandardCost</th>\n",
       "      <th>TotalProductCost</th>\n",
       "      <th>SalesAmount</th>\n",
       "      <th>TaxAmt</th>\n",
       "      <th>Freight</th>\n",
       "      <th>CarrierTrackingNumber</th>\n",
       "      <th>CustomerPONumber</th>\n",
       "      <th>OrderDate</th>\n",
       "      <th>DueDate</th>\n",
       "      <th>ShipDate</th>\n",
       "    </tr>\n",
       "  </thead>\n",
       "  <tbody>\n",
       "    <tr>\n",
       "      <th>0</th>\n",
       "      <td>0</td>\n",
       "      <td>349.0</td>\n",
       "      <td>20101229.0</td>\n",
       "      <td>20110110.0</td>\n",
       "      <td>20110105.0</td>\n",
       "      <td>676.0</td>\n",
       "      <td>285.0</td>\n",
       "      <td>1.0</td>\n",
       "      <td>100.0</td>\n",
       "      <td>5.0</td>\n",
       "      <td>...</td>\n",
       "      <td>1898.0944</td>\n",
       "      <td>1898.0944</td>\n",
       "      <td>2024.994</td>\n",
       "      <td>161.9995</td>\n",
       "      <td>50.6249</td>\n",
       "      <td>4911-403C-98</td>\n",
       "      <td>PO522145787</td>\n",
       "      <td>2010-12-29 00:00:00.000000</td>\n",
       "      <td>2011-01-10 00:00:00.000000</td>\n",
       "      <td>2011-01-05 00:00:00.000000</td>\n",
       "    </tr>\n",
       "    <tr>\n",
       "      <th>1</th>\n",
       "      <td>1</td>\n",
       "      <td>350.0</td>\n",
       "      <td>20101229.0</td>\n",
       "      <td>20110110.0</td>\n",
       "      <td>20110105.0</td>\n",
       "      <td>676.0</td>\n",
       "      <td>285.0</td>\n",
       "      <td>1.0</td>\n",
       "      <td>100.0</td>\n",
       "      <td>5.0</td>\n",
       "      <td>...</td>\n",
       "      <td>1898.0944</td>\n",
       "      <td>5694.2832</td>\n",
       "      <td>6074.982</td>\n",
       "      <td>485.9986</td>\n",
       "      <td>151.8746</td>\n",
       "      <td>4911-403C-98</td>\n",
       "      <td>PO522145787</td>\n",
       "      <td>2010-12-29 00:00:00.000000</td>\n",
       "      <td>2011-01-10 00:00:00.000000</td>\n",
       "      <td>2011-01-05 00:00:00.000000</td>\n",
       "    </tr>\n",
       "    <tr>\n",
       "      <th>2</th>\n",
       "      <td>2</td>\n",
       "      <td>351.0</td>\n",
       "      <td>20101229.0</td>\n",
       "      <td>20110110.0</td>\n",
       "      <td>20110105.0</td>\n",
       "      <td>676.0</td>\n",
       "      <td>285.0</td>\n",
       "      <td>1.0</td>\n",
       "      <td>100.0</td>\n",
       "      <td>5.0</td>\n",
       "      <td>...</td>\n",
       "      <td>1898.0944</td>\n",
       "      <td>1898.0944</td>\n",
       "      <td>2024.994</td>\n",
       "      <td>161.9995</td>\n",
       "      <td>50.6249</td>\n",
       "      <td>4911-403C-98</td>\n",
       "      <td>PO522145787</td>\n",
       "      <td>2010-12-29 00:00:00.000000</td>\n",
       "      <td>2011-01-10 00:00:00.000000</td>\n",
       "      <td>2011-01-05 00:00:00.000000</td>\n",
       "    </tr>\n",
       "    <tr>\n",
       "      <th>3</th>\n",
       "      <td>3</td>\n",
       "      <td>344.0</td>\n",
       "      <td>20101229.0</td>\n",
       "      <td>20110110.0</td>\n",
       "      <td>20110105.0</td>\n",
       "      <td>676.0</td>\n",
       "      <td>285.0</td>\n",
       "      <td>1.0</td>\n",
       "      <td>100.0</td>\n",
       "      <td>5.0</td>\n",
       "      <td>...</td>\n",
       "      <td>1912.1544</td>\n",
       "      <td>1912.1544</td>\n",
       "      <td>2039.994</td>\n",
       "      <td>163.1995</td>\n",
       "      <td>50.9999</td>\n",
       "      <td>4911-403C-98</td>\n",
       "      <td>PO522145787</td>\n",
       "      <td>2010-12-29 00:00:00.000000</td>\n",
       "      <td>2011-01-10 00:00:00.000000</td>\n",
       "      <td>2011-01-05 00:00:00.000000</td>\n",
       "    </tr>\n",
       "    <tr>\n",
       "      <th>4</th>\n",
       "      <td>4</td>\n",
       "      <td>345.0</td>\n",
       "      <td>20101229.0</td>\n",
       "      <td>20110110.0</td>\n",
       "      <td>20110105.0</td>\n",
       "      <td>676.0</td>\n",
       "      <td>285.0</td>\n",
       "      <td>1.0</td>\n",
       "      <td>100.0</td>\n",
       "      <td>5.0</td>\n",
       "      <td>...</td>\n",
       "      <td>1912.1544</td>\n",
       "      <td>1912.1544</td>\n",
       "      <td>2039.994</td>\n",
       "      <td>163.1995</td>\n",
       "      <td>50.9999</td>\n",
       "      <td>4911-403C-98</td>\n",
       "      <td>PO522145787</td>\n",
       "      <td>2010-12-29 00:00:00.000000</td>\n",
       "      <td>2011-01-10 00:00:00.000000</td>\n",
       "      <td>2011-01-05 00:00:00.000000</td>\n",
       "    </tr>\n",
       "  </tbody>\n",
       "</table>\n",
       "<p>5 rows × 28 columns</p>\n",
       "</div>"
      ],
      "text/plain": [
       "   index  ProductKey  OrderDateKey  DueDateKey  ShipDateKey  ResellerKey  \\\n",
       "0      0       349.0    20101229.0  20110110.0   20110105.0        676.0   \n",
       "1      1       350.0    20101229.0  20110110.0   20110105.0        676.0   \n",
       "2      2       351.0    20101229.0  20110110.0   20110105.0        676.0   \n",
       "3      3       344.0    20101229.0  20110110.0   20110105.0        676.0   \n",
       "4      4       345.0    20101229.0  20110110.0   20110105.0        676.0   \n",
       "\n",
       "   EmployeeKey  PromotionKey  CurrencyKey  SalesTerritoryKey  ...  \\\n",
       "0        285.0           1.0        100.0                5.0  ...   \n",
       "1        285.0           1.0        100.0                5.0  ...   \n",
       "2        285.0           1.0        100.0                5.0  ...   \n",
       "3        285.0           1.0        100.0                5.0  ...   \n",
       "4        285.0           1.0        100.0                5.0  ...   \n",
       "\n",
       "  ProductStandardCost  TotalProductCost  SalesAmount    TaxAmt   Freight  \\\n",
       "0           1898.0944         1898.0944     2024.994  161.9995   50.6249   \n",
       "1           1898.0944         5694.2832     6074.982  485.9986  151.8746   \n",
       "2           1898.0944         1898.0944     2024.994  161.9995   50.6249   \n",
       "3           1912.1544         1912.1544     2039.994  163.1995   50.9999   \n",
       "4           1912.1544         1912.1544     2039.994  163.1995   50.9999   \n",
       "\n",
       "   CarrierTrackingNumber  CustomerPONumber                   OrderDate  \\\n",
       "0           4911-403C-98       PO522145787  2010-12-29 00:00:00.000000   \n",
       "1           4911-403C-98       PO522145787  2010-12-29 00:00:00.000000   \n",
       "2           4911-403C-98       PO522145787  2010-12-29 00:00:00.000000   \n",
       "3           4911-403C-98       PO522145787  2010-12-29 00:00:00.000000   \n",
       "4           4911-403C-98       PO522145787  2010-12-29 00:00:00.000000   \n",
       "\n",
       "                      DueDate                    ShipDate  \n",
       "0  2011-01-10 00:00:00.000000  2011-01-05 00:00:00.000000  \n",
       "1  2011-01-10 00:00:00.000000  2011-01-05 00:00:00.000000  \n",
       "2  2011-01-10 00:00:00.000000  2011-01-05 00:00:00.000000  \n",
       "3  2011-01-10 00:00:00.000000  2011-01-05 00:00:00.000000  \n",
       "4  2011-01-10 00:00:00.000000  2011-01-05 00:00:00.000000  \n",
       "\n",
       "[5 rows x 28 columns]"
      ]
     },
     "execution_count": 4,
     "metadata": {},
     "output_type": "execute_result"
    }
   ],
   "source": [
    "df.head()"
   ]
  },
  {
   "cell_type": "code",
   "execution_count": 5,
   "metadata": {},
   "outputs": [
    {
     "data": {
      "text/plain": [
       "Index(['index', 'ProductKey', 'OrderDateKey', 'DueDateKey', 'ShipDateKey',\n",
       "       'ResellerKey', 'EmployeeKey', 'PromotionKey', 'CurrencyKey',\n",
       "       'SalesTerritoryKey', 'SalesOrderNumber', 'SalesOrderLineNumber',\n",
       "       'RevisionNumber', 'OrderQuantity', 'UnitPrice', 'ExtendedAmount',\n",
       "       'UnitPriceDiscountPct', 'DiscountAmount', 'ProductStandardCost',\n",
       "       'TotalProductCost', 'SalesAmount', 'TaxAmt', 'Freight',\n",
       "       'CarrierTrackingNumber', 'CustomerPONumber', 'OrderDate', 'DueDate',\n",
       "       'ShipDate'],\n",
       "      dtype='object')"
      ]
     },
     "execution_count": 5,
     "metadata": {},
     "output_type": "execute_result"
    }
   ],
   "source": [
    "df.columns"
   ]
  },
  {
   "cell_type": "code",
   "execution_count": 6,
   "metadata": {},
   "outputs": [
    {
     "data": {
      "text/plain": [
       "array([ 1.,  3.,  2.,  6.,  4.,  5.,  7.,  9.,  8., 10., 12., 13., 21.,\n",
       "       14., 11., 26., 22., 23., 18., 16., 15., 19., 32., 17., 35., 34.,\n",
       "       27., 33., 24., 20., 29., 28., 25., 39., 31., 44., 36., 40., 30.,\n",
       "       38., 41.])"
      ]
     },
     "execution_count": 6,
     "metadata": {},
     "output_type": "execute_result"
    }
   ],
   "source": [
    "df['OrderQuantity'].unique()"
   ]
  },
  {
   "cell_type": "code",
   "execution_count": 7,
   "metadata": {},
   "outputs": [
    {
     "name": "stdout",
     "output_type": "stream",
     "text": [
      "count    60855.000000\n",
      "mean         3.522767\n",
      "std          3.033387\n",
      "min          1.000000\n",
      "25%          2.000000\n",
      "50%          3.000000\n",
      "75%          4.000000\n",
      "max         44.000000\n",
      "Name: OrderQuantity, dtype: object\n"
     ]
    },
    {
     "data": {
      "text/plain": [
       "(array([3.8761e+04, 1.1870e+04, 5.0320e+03, 2.3580e+03, 1.1600e+03,\n",
       "        6.9600e+02, 5.1700e+02, 1.9500e+02, 9.9000e+01, 4.3000e+01,\n",
       "        4.2000e+01, 3.2000e+01, 1.5000e+01, 9.0000e+00, 1.3000e+01,\n",
       "        5.0000e+00, 2.0000e+00, 2.0000e+00, 3.0000e+00, 1.0000e+00]),\n",
       " array([ 1.  ,  3.15,  5.3 ,  7.45,  9.6 , 11.75, 13.9 , 16.05, 18.2 ,\n",
       "        20.35, 22.5 , 24.65, 26.8 , 28.95, 31.1 , 33.25, 35.4 , 37.55,\n",
       "        39.7 , 41.85, 44.  ]),\n",
       " <BarContainer object of 20 artists>)"
      ]
     },
     "execution_count": 7,
     "metadata": {},
     "output_type": "execute_result"
    },
    {
     "data": {
      "image/png": "[encoded data removed]",
      "text/plain": [
       "<Figure size 432x288 with 1 Axes>"
      ]
     },
     "metadata": {
      "needs_background": "light"
     },
     "output_type": "display_data"
    }
   ],
   "source": [
    "print(df['OrderQuantity'].describe().apply(lambda x: format(x, 'f')))\n",
    "\n",
    "plt.hist(df.OrderQuantity, 20)"
   ]
  },
  {
   "cell_type": "code",
   "execution_count": 8,
   "metadata": {},
   "outputs": [
    {
     "data": {
      "text/plain": [
       "([0,\n",
       "  1,\n",
       "  2,\n",
       "  3,\n",
       "  4,\n",
       "  5,\n",
       "  6,\n",
       "  7,\n",
       "  8,\n",
       "  9,\n",
       "  10,\n",
       "  11,\n",
       "  12,\n",
       "  13,\n",
       "  14,\n",
       "  15,\n",
       "  16,\n",
       "  17,\n",
       "  18,\n",
       "  19,\n",
       "  20,\n",
       "  21,\n",
       "  22,\n",
       "  23,\n",
       "  24,\n",
       "  25,\n",
       "  26,\n",
       "  27,\n",
       "  28,\n",
       "  29,\n",
       "  30,\n",
       "  31,\n",
       "  32,\n",
       "  33,\n",
       "  34,\n",
       "  35,\n",
       "  36,\n",
       "  37,\n",
       "  38,\n",
       "  39],\n",
       " [Text(0, 0, ''),\n",
       "  Text(0, 0, ''),\n",
       "  Text(0, 0, ''),\n",
       "  Text(0, 0, ''),\n",
       "  Text(0, 0, ''),\n",
       "  Text(0, 0, ''),\n",
       "  Text(0, 0, ''),\n",
       "  Text(0, 0, ''),\n",
       "  Text(0, 0, ''),\n",
       "  Text(0, 0, ''),\n",
       "  Text(0, 0, ''),\n",
       "  Text(0, 0, ''),\n",
       "  Text(0, 0, ''),\n",
       "  Text(0, 0, ''),\n",
       "  Text(0, 0, ''),\n",
       "  Text(0, 0, ''),\n",
       "  Text(0, 0, ''),\n",
       "  Text(0, 0, ''),\n",
       "  Text(0, 0, ''),\n",
       "  Text(0, 0, ''),\n",
       "  Text(0, 0, ''),\n",
       "  Text(0, 0, ''),\n",
       "  Text(0, 0, ''),\n",
       "  Text(0, 0, ''),\n",
       "  Text(0, 0, ''),\n",
       "  Text(0, 0, ''),\n",
       "  Text(0, 0, ''),\n",
       "  Text(0, 0, ''),\n",
       "  Text(0, 0, ''),\n",
       "  Text(0, 0, ''),\n",
       "  Text(0, 0, ''),\n",
       "  Text(0, 0, ''),\n",
       "  Text(0, 0, ''),\n",
       "  Text(0, 0, ''),\n",
       "  Text(0, 0, ''),\n",
       "  Text(0, 0, ''),\n",
       "  Text(0, 0, ''),\n",
       "  Text(0, 0, ''),\n",
       "  Text(0, 0, ''),\n",
       "  Text(0, 0, '')])"
      ]
     },
     "execution_count": 8,
     "metadata": {},
     "output_type": "execute_result"
    },
    {
     "data": {
      "image/png": "[encoded data removed]",
      "text/plain": [
       "<Figure size 432x288 with 1 Axes>"
      ]
     },
     "metadata": {
      "needs_background": "light"
     },
     "output_type": "display_data"
    }
   ],
   "source": [
    "img = df.groupby('OrderDate', as_index = False)['OrderQuantity'].sum()\n",
    "plt.plot(img.OrderDate, img.OrderQuantity)\n",
    "plt.xticks( rotation='vertical')"
   ]
  },
  {
   "cell_type": "code",
   "execution_count": 9,
   "metadata": {},
   "outputs": [
    {
     "data": {
      "text/plain": [
       "([0, 1, 2, 3, 4, 5, 6, 7],\n",
       " [Text(0, 0, ''),\n",
       "  Text(0, 0, ''),\n",
       "  Text(0, 0, ''),\n",
       "  Text(0, 0, ''),\n",
       "  Text(0, 0, ''),\n",
       "  Text(0, 0, ''),\n",
       "  Text(0, 0, ''),\n",
       "  Text(0, 0, '')])"
      ]
     },
     "execution_count": 9,
     "metadata": {},
     "output_type": "execute_result"
    },
    {
     "data": {
      "image/png": "[encoded data removed]",
      "text/plain": [
       "<Figure size 432x288 with 1 Axes>"
      ]
     },
     "metadata": {
      "needs_background": "light"
     },
     "output_type": "display_data"
    }
   ],
   "source": [
    "img = df[df['OrderDate'] >= '2013-08-01'].groupby('OrderDate', as_index = False)['OrderQuantity'].sum()\n",
    "plt.plot(img.OrderDate, img.OrderQuantity)\n",
    "plt.xticks( rotation='vertical')"
   ]
  },
  {
   "cell_type": "code",
   "execution_count": 10,
   "metadata": {},
   "outputs": [
    {
     "data": {
      "text/plain": [
       "0       2010-12-29\n",
       "1       2010-12-29\n",
       "2       2010-12-29\n",
       "3       2010-12-29\n",
       "4       2010-12-29\n",
       "           ...    \n",
       "60850   2013-11-29\n",
       "60851   2013-11-29\n",
       "60852   2013-11-29\n",
       "60853   2013-11-29\n",
       "60854   2013-11-29\n",
       "Name: normalized_OrderDateKey, Length: 60855, dtype: datetime64[ns]"
      ]
     },
     "execution_count": 10,
     "metadata": {},
     "output_type": "execute_result"
    }
   ],
   "source": [
    "df['normalized_OrderDateKey'] = pd.to_datetime(df.OrderDateKey, format='%Y%m%d')\n",
    "df.normalized_OrderDateKey"
   ]
  },
  {
   "cell_type": "code",
   "execution_count": 11,
   "metadata": {},
   "outputs": [
    {
     "data": {
      "text/plain": [
       "(array([15949., 15963., 15979., 15993., 16010., 16024., 16040.]),\n",
       " [Text(0, 0, ''),\n",
       "  Text(0, 0, ''),\n",
       "  Text(0, 0, ''),\n",
       "  Text(0, 0, ''),\n",
       "  Text(0, 0, ''),\n",
       "  Text(0, 0, ''),\n",
       "  Text(0, 0, '')])"
      ]
     },
     "execution_count": 11,
     "metadata": {},
     "output_type": "execute_result"
    },
    {
     "data": {
      "image/png": "[encoded data removed]",
      "text/plain": [
       "<Figure size 432x288 with 1 Axes>"
      ]
     },
     "metadata": {
      "needs_background": "light"
     },
     "output_type": "display_data"
    }
   ],
   "source": [
    "img = df[df['normalized_OrderDateKey'] >= '2013-08-01'].groupby('normalized_OrderDateKey', as_index = False)['OrderQuantity'].sum()\n",
    "plt.plot(img.normalized_OrderDateKey, img.OrderQuantity)\n",
    "plt.xticks( rotation='vertical')"
   ]
  },
  {
   "cell_type": "code",
   "execution_count": 12,
   "metadata": {},
   "outputs": [
    {
     "data": {
      "text/plain": [
       "([0,\n",
       "  1,\n",
       "  2,\n",
       "  3,\n",
       "  4,\n",
       "  5,\n",
       "  6,\n",
       "  7,\n",
       "  8,\n",
       "  9,\n",
       "  10,\n",
       "  11,\n",
       "  12,\n",
       "  13,\n",
       "  14,\n",
       "  15,\n",
       "  16,\n",
       "  17,\n",
       "  18,\n",
       "  19,\n",
       "  20,\n",
       "  21,\n",
       "  22,\n",
       "  23,\n",
       "  24,\n",
       "  25,\n",
       "  26,\n",
       "  27,\n",
       "  28,\n",
       "  29,\n",
       "  30,\n",
       "  31,\n",
       "  32,\n",
       "  33,\n",
       "  34,\n",
       "  35],\n",
       " [Text(0, 0, ''),\n",
       "  Text(0, 0, ''),\n",
       "  Text(0, 0, ''),\n",
       "  Text(0, 0, ''),\n",
       "  Text(0, 0, ''),\n",
       "  Text(0, 0, ''),\n",
       "  Text(0, 0, ''),\n",
       "  Text(0, 0, ''),\n",
       "  Text(0, 0, ''),\n",
       "  Text(0, 0, ''),\n",
       "  Text(0, 0, ''),\n",
       "  Text(0, 0, ''),\n",
       "  Text(0, 0, ''),\n",
       "  Text(0, 0, ''),\n",
       "  Text(0, 0, ''),\n",
       "  Text(0, 0, ''),\n",
       "  Text(0, 0, ''),\n",
       "  Text(0, 0, ''),\n",
       "  Text(0, 0, ''),\n",
       "  Text(0, 0, ''),\n",
       "  Text(0, 0, ''),\n",
       "  Text(0, 0, ''),\n",
       "  Text(0, 0, ''),\n",
       "  Text(0, 0, ''),\n",
       "  Text(0, 0, ''),\n",
       "  Text(0, 0, ''),\n",
       "  Text(0, 0, ''),\n",
       "  Text(0, 0, ''),\n",
       "  Text(0, 0, ''),\n",
       "  Text(0, 0, ''),\n",
       "  Text(0, 0, ''),\n",
       "  Text(0, 0, ''),\n",
       "  Text(0, 0, ''),\n",
       "  Text(0, 0, ''),\n",
       "  Text(0, 0, ''),\n",
       "  Text(0, 0, '')])"
      ]
     },
     "execution_count": 12,
     "metadata": {},
     "output_type": "execute_result"
    },
    {
     "data": {
      "image/png": "[encoded data removed]",
      "text/plain": [
       "<Figure size 432x288 with 1 Axes>"
      ]
     },
     "metadata": {
      "needs_background": "light"
     },
     "output_type": "display_data"
    }
   ],
   "source": [
    "img = df.groupby('ShipDate', as_index = False)['OrderQuantity'].sum()\n",
    "plt.plot(img.ShipDate, img.OrderQuantity)\n",
    "plt.xticks( rotation='vertical')"
   ]
  },
  {
   "cell_type": "code",
   "execution_count": 13,
   "metadata": {},
   "outputs": [
    {
     "data": {
      "text/plain": [
       "([0, 1, 2, 3, 4],\n",
       " [Text(0, 0, ''),\n",
       "  Text(0, 0, ''),\n",
       "  Text(0, 0, ''),\n",
       "  Text(0, 0, ''),\n",
       "  Text(0, 0, '')])"
      ]
     },
     "execution_count": 13,
     "metadata": {},
     "output_type": "execute_result"
    },
    {
     "data": {
      "image/png": "[encoded data removed]",
      "text/plain": [
       "<Figure size 432x288 with 1 Axes>"
      ]
     },
     "metadata": {
      "needs_background": "light"
     },
     "output_type": "display_data"
    }
   ],
   "source": [
    "img = df[df['ShipDate'] >= '2013-08-01'].groupby('ShipDate', as_index = False)['OrderQuantity'].sum()\n",
    "plt.plot(img.ShipDate, img.OrderQuantity)\n",
    "plt.xticks( rotation='vertical')"
   ]
  },
  {
   "cell_type": "code",
   "execution_count": 14,
   "metadata": {},
   "outputs": [
    {
     "data": {
      "text/html": [
       "<div>\n",
       "<style scoped>\n",
       "    .dataframe tbody tr th:only-of-type {\n",
       "        vertical-align: middle;\n",
       "    }\n",
       "\n",
       "    .dataframe tbody tr th {\n",
       "        vertical-align: top;\n",
       "    }\n",
       "\n",
       "    .dataframe thead th {\n",
       "        text-align: right;\n",
       "    }\n",
       "</style>\n",
       "<table border=\"1\" class=\"dataframe\">\n",
       "  <thead>\n",
       "    <tr style=\"text-align: right;\">\n",
       "      <th></th>\n",
       "      <th>OrderDate</th>\n",
       "      <th>ShipDate</th>\n",
       "      <th>UnitPrice</th>\n",
       "      <th>OrderQuantity</th>\n",
       "    </tr>\n",
       "  </thead>\n",
       "  <tbody>\n",
       "    <tr>\n",
       "      <th>55004</th>\n",
       "      <td>2013-10-28 00:00:00.000000</td>\n",
       "      <td>2013-11-05 00:00:00.000000</td>\n",
       "      <td>29.994</td>\n",
       "      <td>2.0</td>\n",
       "    </tr>\n",
       "    <tr>\n",
       "      <th>55005</th>\n",
       "      <td>2013-10-28 00:00:00.000000</td>\n",
       "      <td>2013-11-05 00:00:00.000000</td>\n",
       "      <td>5.394</td>\n",
       "      <td>4.0</td>\n",
       "    </tr>\n",
       "    <tr>\n",
       "      <th>55006</th>\n",
       "      <td>2013-10-29 00:00:00.000000</td>\n",
       "      <td>2013-11-05 00:00:00.000000</td>\n",
       "      <td>112.998</td>\n",
       "      <td>1.0</td>\n",
       "    </tr>\n",
       "    <tr>\n",
       "      <th>55007</th>\n",
       "      <td>2013-10-29 00:00:00.000000</td>\n",
       "      <td>2013-11-05 00:00:00.000000</td>\n",
       "      <td>323.994</td>\n",
       "      <td>1.0</td>\n",
       "    </tr>\n",
       "    <tr>\n",
       "      <th>55008</th>\n",
       "      <td>2013-10-29 00:00:00.000000</td>\n",
       "      <td>2013-11-05 00:00:00.000000</td>\n",
       "      <td>818.700</td>\n",
       "      <td>1.0</td>\n",
       "    </tr>\n",
       "    <tr>\n",
       "      <th>...</th>\n",
       "      <td>...</td>\n",
       "      <td>...</td>\n",
       "      <td>...</td>\n",
       "      <td>...</td>\n",
       "    </tr>\n",
       "    <tr>\n",
       "      <th>60850</th>\n",
       "      <td>2013-11-29 00:00:00.000000</td>\n",
       "      <td>2013-12-06 00:00:00.000000</td>\n",
       "      <td>158.430</td>\n",
       "      <td>2.0</td>\n",
       "    </tr>\n",
       "    <tr>\n",
       "      <th>60851</th>\n",
       "      <td>2013-11-29 00:00:00.000000</td>\n",
       "      <td>2013-12-06 00:00:00.000000</td>\n",
       "      <td>809.760</td>\n",
       "      <td>1.0</td>\n",
       "    </tr>\n",
       "    <tr>\n",
       "      <th>60852</th>\n",
       "      <td>2013-11-29 00:00:00.000000</td>\n",
       "      <td>2013-12-06 00:00:00.000000</td>\n",
       "      <td>818.700</td>\n",
       "      <td>4.0</td>\n",
       "    </tr>\n",
       "    <tr>\n",
       "      <th>60853</th>\n",
       "      <td>2013-11-29 00:00:00.000000</td>\n",
       "      <td>2013-12-06 00:00:00.000000</td>\n",
       "      <td>32.394</td>\n",
       "      <td>3.0</td>\n",
       "    </tr>\n",
       "    <tr>\n",
       "      <th>60854</th>\n",
       "      <td>2013-11-29 00:00:00.000000</td>\n",
       "      <td>2013-12-06 00:00:00.000000</td>\n",
       "      <td>112.998</td>\n",
       "      <td>3.0</td>\n",
       "    </tr>\n",
       "  </tbody>\n",
       "</table>\n",
       "<p>5851 rows × 4 columns</p>\n",
       "</div>"
      ],
      "text/plain": [
       "                        OrderDate                    ShipDate  UnitPrice  \\\n",
       "55004  2013-10-28 00:00:00.000000  2013-11-05 00:00:00.000000     29.994   \n",
       "55005  2013-10-28 00:00:00.000000  2013-11-05 00:00:00.000000      5.394   \n",
       "55006  2013-10-29 00:00:00.000000  2013-11-05 00:00:00.000000    112.998   \n",
       "55007  2013-10-29 00:00:00.000000  2013-11-05 00:00:00.000000    323.994   \n",
       "55008  2013-10-29 00:00:00.000000  2013-11-05 00:00:00.000000    818.700   \n",
       "...                           ...                         ...        ...   \n",
       "60850  2013-11-29 00:00:00.000000  2013-12-06 00:00:00.000000    158.430   \n",
       "60851  2013-11-29 00:00:00.000000  2013-12-06 00:00:00.000000    809.760   \n",
       "60852  2013-11-29 00:00:00.000000  2013-12-06 00:00:00.000000    818.700   \n",
       "60853  2013-11-29 00:00:00.000000  2013-12-06 00:00:00.000000     32.394   \n",
       "60854  2013-11-29 00:00:00.000000  2013-12-06 00:00:00.000000    112.998   \n",
       "\n",
       "       OrderQuantity  \n",
       "55004            2.0  \n",
       "55005            4.0  \n",
       "55006            1.0  \n",
       "55007            1.0  \n",
       "55008            1.0  \n",
       "...              ...  \n",
       "60850            2.0  \n",
       "60851            1.0  \n",
       "60852            4.0  \n",
       "60853            3.0  \n",
       "60854            3.0  \n",
       "\n",
       "[5851 rows x 4 columns]"
      ]
     },
     "execution_count": 14,
     "metadata": {},
     "output_type": "execute_result"
    }
   ],
   "source": [
    "df[df['OrderDate'] >= '2013-10-01' ][['OrderDate', 'ShipDate', 'UnitPrice', 'OrderQuantity']]"
   ]
  },
  {
   "cell_type": "code",
   "execution_count": 15,
   "metadata": {},
   "outputs": [
    {
     "name": "stdout",
     "output_type": "stream",
     "text": [
      "count    60855.000000\n",
      "mean       444.431119\n",
      "std        520.011858\n",
      "min          1.328200\n",
      "25%         34.925000\n",
      "50%        209.256000\n",
      "75%        672.294000\n",
      "max       2146.962000\n",
      "Name: UnitPrice, dtype: object\n"
     ]
    },
    {
     "data": {
      "text/plain": [
       "(array([2.3863e+04, 6.6850e+03, 8.6700e+02, 6.4610e+03, 4.9460e+03,\n",
       "        1.7470e+03, 3.7250e+03, 1.7150e+03, 1.1460e+03, 9.8300e+02,\n",
       "        1.0000e+00, 1.7270e+03, 2.2550e+03, 2.8820e+03, 0.0000e+00,\n",
       "        0.0000e+00, 0.0000e+00, 0.0000e+00, 6.7000e+02, 1.1820e+03]),\n",
       " array([1.32820000e+00, 1.08609890e+02, 2.15891580e+02, 3.23173270e+02,\n",
       "        4.30454960e+02, 5.37736650e+02, 6.45018340e+02, 7.52300030e+02,\n",
       "        8.59581720e+02, 9.66863410e+02, 1.07414510e+03, 1.18142679e+03,\n",
       "        1.28870848e+03, 1.39599017e+03, 1.50327186e+03, 1.61055355e+03,\n",
       "        1.71783524e+03, 1.82511693e+03, 1.93239862e+03, 2.03968031e+03,\n",
       "        2.14696200e+03]),\n",
       " <BarContainer object of 20 artists>)"
      ]
     },
     "execution_count": 15,
     "metadata": {},
     "output_type": "execute_result"
    },
    {
     "data": {
      "image/png": "[encoded data removed]",
      "text/plain": [
       "<Figure size 432x288 with 1 Axes>"
      ]
     },
     "metadata": {
      "needs_background": "light"
     },
     "output_type": "display_data"
    }
   ],
   "source": [
    "print(df['UnitPrice'].describe().apply(lambda x: format(x, 'f')))\n",
    "plt.hist(df.UnitPrice, 20)"
   ]
  },
  {
   "cell_type": "code",
   "execution_count": 16,
   "metadata": {},
   "outputs": [
    {
     "data": {
      "text/plain": [
       "([0,\n",
       "  1,\n",
       "  2,\n",
       "  3,\n",
       "  4,\n",
       "  5,\n",
       "  6,\n",
       "  7,\n",
       "  8,\n",
       "  9,\n",
       "  10,\n",
       "  11,\n",
       "  12,\n",
       "  13,\n",
       "  14,\n",
       "  15,\n",
       "  16,\n",
       "  17,\n",
       "  18,\n",
       "  19,\n",
       "  20,\n",
       "  21,\n",
       "  22,\n",
       "  23,\n",
       "  24,\n",
       "  25,\n",
       "  26,\n",
       "  27,\n",
       "  28,\n",
       "  29,\n",
       "  30,\n",
       "  31,\n",
       "  32,\n",
       "  33,\n",
       "  34,\n",
       "  35],\n",
       " [Text(0, 0, ''),\n",
       "  Text(0, 0, ''),\n",
       "  Text(0, 0, ''),\n",
       "  Text(0, 0, ''),\n",
       "  Text(0, 0, ''),\n",
       "  Text(0, 0, ''),\n",
       "  Text(0, 0, ''),\n",
       "  Text(0, 0, ''),\n",
       "  Text(0, 0, ''),\n",
       "  Text(0, 0, ''),\n",
       "  Text(0, 0, ''),\n",
       "  Text(0, 0, ''),\n",
       "  Text(0, 0, ''),\n",
       "  Text(0, 0, ''),\n",
       "  Text(0, 0, ''),\n",
       "  Text(0, 0, ''),\n",
       "  Text(0, 0, ''),\n",
       "  Text(0, 0, ''),\n",
       "  Text(0, 0, ''),\n",
       "  Text(0, 0, ''),\n",
       "  Text(0, 0, ''),\n",
       "  Text(0, 0, ''),\n",
       "  Text(0, 0, ''),\n",
       "  Text(0, 0, ''),\n",
       "  Text(0, 0, ''),\n",
       "  Text(0, 0, ''),\n",
       "  Text(0, 0, ''),\n",
       "  Text(0, 0, ''),\n",
       "  Text(0, 0, ''),\n",
       "  Text(0, 0, ''),\n",
       "  Text(0, 0, ''),\n",
       "  Text(0, 0, ''),\n",
       "  Text(0, 0, ''),\n",
       "  Text(0, 0, ''),\n",
       "  Text(0, 0, ''),\n",
       "  Text(0, 0, '')])"
      ]
     },
     "execution_count": 16,
     "metadata": {},
     "output_type": "execute_result"
    },
    {
     "data": {
      "image/png": "[encoded data removed]",
      "text/plain": [
       "<Figure size 432x288 with 1 Axes>"
      ]
     },
     "metadata": {
      "needs_background": "light"
     },
     "output_type": "display_data"
    }
   ],
   "source": [
    "img = df.groupby('ShipDate', as_index = False)['UnitPrice'].sum()\n",
    "plt.plot(img.ShipDate, img.UnitPrice)\n",
    "plt.xticks( rotation='vertical')"
   ]
  },
  {
   "cell_type": "code",
   "execution_count": 17,
   "metadata": {},
   "outputs": [
    {
     "data": {
      "text/html": [
       "<div>\n",
       "<style scoped>\n",
       "    .dataframe tbody tr th:only-of-type {\n",
       "        vertical-align: middle;\n",
       "    }\n",
       "\n",
       "    .dataframe tbody tr th {\n",
       "        vertical-align: top;\n",
       "    }\n",
       "\n",
       "    .dataframe thead th {\n",
       "        text-align: right;\n",
       "    }\n",
       "</style>\n",
       "<table border=\"1\" class=\"dataframe\">\n",
       "  <thead>\n",
       "    <tr style=\"text-align: right;\">\n",
       "      <th></th>\n",
       "      <th>OrderDate</th>\n",
       "      <th>ShipDate</th>\n",
       "    </tr>\n",
       "  </thead>\n",
       "  <tbody>\n",
       "    <tr>\n",
       "      <th>0</th>\n",
       "      <td>2010-12-29 00:00:00.000000</td>\n",
       "      <td>2011-01-05 00:00:00.000000</td>\n",
       "    </tr>\n",
       "    <tr>\n",
       "      <th>1</th>\n",
       "      <td>2010-12-29 00:00:00.000000</td>\n",
       "      <td>2011-01-05 00:00:00.000000</td>\n",
       "    </tr>\n",
       "    <tr>\n",
       "      <th>2</th>\n",
       "      <td>2010-12-29 00:00:00.000000</td>\n",
       "      <td>2011-01-05 00:00:00.000000</td>\n",
       "    </tr>\n",
       "    <tr>\n",
       "      <th>3</th>\n",
       "      <td>2010-12-29 00:00:00.000000</td>\n",
       "      <td>2011-01-05 00:00:00.000000</td>\n",
       "    </tr>\n",
       "    <tr>\n",
       "      <th>4</th>\n",
       "      <td>2010-12-29 00:00:00.000000</td>\n",
       "      <td>2011-01-05 00:00:00.000000</td>\n",
       "    </tr>\n",
       "    <tr>\n",
       "      <th>...</th>\n",
       "      <td>...</td>\n",
       "      <td>...</td>\n",
       "    </tr>\n",
       "    <tr>\n",
       "      <th>60850</th>\n",
       "      <td>2013-11-29 00:00:00.000000</td>\n",
       "      <td>2013-12-06 00:00:00.000000</td>\n",
       "    </tr>\n",
       "    <tr>\n",
       "      <th>60851</th>\n",
       "      <td>2013-11-29 00:00:00.000000</td>\n",
       "      <td>2013-12-06 00:00:00.000000</td>\n",
       "    </tr>\n",
       "    <tr>\n",
       "      <th>60852</th>\n",
       "      <td>2013-11-29 00:00:00.000000</td>\n",
       "      <td>2013-12-06 00:00:00.000000</td>\n",
       "    </tr>\n",
       "    <tr>\n",
       "      <th>60853</th>\n",
       "      <td>2013-11-29 00:00:00.000000</td>\n",
       "      <td>2013-12-06 00:00:00.000000</td>\n",
       "    </tr>\n",
       "    <tr>\n",
       "      <th>60854</th>\n",
       "      <td>2013-11-29 00:00:00.000000</td>\n",
       "      <td>2013-12-06 00:00:00.000000</td>\n",
       "    </tr>\n",
       "  </tbody>\n",
       "</table>\n",
       "<p>60855 rows × 2 columns</p>\n",
       "</div>"
      ],
      "text/plain": [
       "                        OrderDate                    ShipDate\n",
       "0      2010-12-29 00:00:00.000000  2011-01-05 00:00:00.000000\n",
       "1      2010-12-29 00:00:00.000000  2011-01-05 00:00:00.000000\n",
       "2      2010-12-29 00:00:00.000000  2011-01-05 00:00:00.000000\n",
       "3      2010-12-29 00:00:00.000000  2011-01-05 00:00:00.000000\n",
       "4      2010-12-29 00:00:00.000000  2011-01-05 00:00:00.000000\n",
       "...                           ...                         ...\n",
       "60850  2013-11-29 00:00:00.000000  2013-12-06 00:00:00.000000\n",
       "60851  2013-11-29 00:00:00.000000  2013-12-06 00:00:00.000000\n",
       "60852  2013-11-29 00:00:00.000000  2013-12-06 00:00:00.000000\n",
       "60853  2013-11-29 00:00:00.000000  2013-12-06 00:00:00.000000\n",
       "60854  2013-11-29 00:00:00.000000  2013-12-06 00:00:00.000000\n",
       "\n",
       "[60855 rows x 2 columns]"
      ]
     },
     "execution_count": 17,
     "metadata": {},
     "output_type": "execute_result"
    }
   ],
   "source": [
    "df[['OrderDate', 'ShipDate']]"
   ]
  },
  {
   "cell_type": "code",
   "execution_count": null,
   "metadata": {},
   "outputs": [],
   "source": []
  }
 ],
 "metadata": {
  "interpreter": {
   "hash": "235a8b4d5a1c8969e3f7a7275dc5df41558e4b2db3942be74c344d4b21c0fe11"
  },
  "kernelspec": {
   "display_name": "Python 3.8.12 ('remote')",
   "language": "python",
   "name": "python3"
  },
  "language_info": {
   "codemirror_mode": {
    "name": "ipython",
    "version": 3
   },
   "file_extension": ".py",
   "mimetype": "text/x-python",
   "name": "python",
   "nbconvert_exporter": "python",
   "pygments_lexer": "ipython3",
   "version": "3.8.12"
  },
  "orig_nbformat": 4
 },
 "nbformat": 4,
 "nbformat_minor": 2
}
