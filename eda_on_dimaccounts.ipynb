{
 "cells": [
  {
   "cell_type": "code",
   "execution_count": 1,
   "metadata": {},
   "outputs": [],
   "source": [
    "import pandas as pd\n",
    "import numpy as np\n",
    "\n",
    "from modules.utils.utils import read_json , initialize_tables_in_db, load_to_postgres, build_connection_engine\n",
    "from pathlib import Path\n",
    "import matplotlib.pyplot as plt\n",
    "import seaborn as sns\n",
    "\n",
    "p = Path(\".\")\n",
    "\n",
    "config = read_json(p / \"modules\"/\"config.json\")\n",
    "table_schema = 'remote'\n",
    "conn_s = build_connection_engine(config, 's')"
   ]
  },
  {
   "cell_type": "code",
   "execution_count": 2,
   "metadata": {},
   "outputs": [],
   "source": [
    "dimaccounts = pd.read_sql_query(f\"select * from remote.dimaccounts \",con=conn_s)\n",
    "\n",
    "df = dimaccounts.copy()"
   ]
  },
  {
   "cell_type": "code",
   "execution_count": 3,
   "metadata": {},
   "outputs": [
    {
     "name": "stdout",
     "output_type": "stream",
     "text": [
      "<class 'pandas.core.frame.DataFrame'>\n",
      "RangeIndex: 99 entries, 0 to 98\n",
      "Data columns (total 10 columns):\n",
      " #   Column                         Non-Null Count  Dtype  \n",
      "---  ------                         --------------  -----  \n",
      " 0   AccountKey                     99 non-null     float64\n",
      " 1   ParentAccountKey               96 non-null     float64\n",
      " 2   AccountCodeAlternateKey        99 non-null     float64\n",
      " 3   ParentAccountCodeAlternateKey  96 non-null     float64\n",
      " 4   AccountDescription             99 non-null     object \n",
      " 5   AccountType                    98 non-null     object \n",
      " 6   Operator                       99 non-null     object \n",
      " 7   CustomMembers                  1 non-null      object \n",
      " 8   ValueType                      99 non-null     object \n",
      " 9   CustomMemberOptions            0 non-null      object \n",
      "dtypes: float64(4), object(6)\n",
      "memory usage: 7.9+ KB\n"
     ]
    }
   ],
   "source": [
    "df.info()"
   ]
  },
  {
   "cell_type": "code",
   "execution_count": 4,
   "metadata": {},
   "outputs": [
    {
     "data": {
      "text/html": [
       "<div>\n",
       "<style scoped>\n",
       "    .dataframe tbody tr th:only-of-type {\n",
       "        vertical-align: middle;\n",
       "    }\n",
       "\n",
       "    .dataframe tbody tr th {\n",
       "        vertical-align: top;\n",
       "    }\n",
       "\n",
       "    .dataframe thead th {\n",
       "        text-align: right;\n",
       "    }\n",
       "</style>\n",
       "<table border=\"1\" class=\"dataframe\">\n",
       "  <thead>\n",
       "    <tr style=\"text-align: right;\">\n",
       "      <th></th>\n",
       "      <th>AccountKey</th>\n",
       "      <th>ParentAccountKey</th>\n",
       "      <th>AccountCodeAlternateKey</th>\n",
       "      <th>ParentAccountCodeAlternateKey</th>\n",
       "      <th>AccountDescription</th>\n",
       "      <th>AccountType</th>\n",
       "      <th>Operator</th>\n",
       "      <th>CustomMembers</th>\n",
       "      <th>ValueType</th>\n",
       "      <th>CustomMemberOptions</th>\n",
       "    </tr>\n",
       "  </thead>\n",
       "  <tbody>\n",
       "    <tr>\n",
       "      <th>0</th>\n",
       "      <td>1.0</td>\n",
       "      <td>NaN</td>\n",
       "      <td>1.0</td>\n",
       "      <td>NaN</td>\n",
       "      <td>Balance Sheet</td>\n",
       "      <td>None</td>\n",
       "      <td>~</td>\n",
       "      <td>None</td>\n",
       "      <td>Currency</td>\n",
       "      <td>None</td>\n",
       "    </tr>\n",
       "    <tr>\n",
       "      <th>1</th>\n",
       "      <td>2.0</td>\n",
       "      <td>1.0</td>\n",
       "      <td>10.0</td>\n",
       "      <td>1.0</td>\n",
       "      <td>Assets</td>\n",
       "      <td>Assets</td>\n",
       "      <td>+</td>\n",
       "      <td>None</td>\n",
       "      <td>Currency</td>\n",
       "      <td>None</td>\n",
       "    </tr>\n",
       "    <tr>\n",
       "      <th>2</th>\n",
       "      <td>3.0</td>\n",
       "      <td>2.0</td>\n",
       "      <td>110.0</td>\n",
       "      <td>10.0</td>\n",
       "      <td>Current Assets</td>\n",
       "      <td>Assets</td>\n",
       "      <td>+</td>\n",
       "      <td>None</td>\n",
       "      <td>Currency</td>\n",
       "      <td>None</td>\n",
       "    </tr>\n",
       "    <tr>\n",
       "      <th>3</th>\n",
       "      <td>4.0</td>\n",
       "      <td>3.0</td>\n",
       "      <td>1110.0</td>\n",
       "      <td>110.0</td>\n",
       "      <td>Cash</td>\n",
       "      <td>Assets</td>\n",
       "      <td>+</td>\n",
       "      <td>None</td>\n",
       "      <td>Currency</td>\n",
       "      <td>None</td>\n",
       "    </tr>\n",
       "    <tr>\n",
       "      <th>4</th>\n",
       "      <td>5.0</td>\n",
       "      <td>3.0</td>\n",
       "      <td>1120.0</td>\n",
       "      <td>110.0</td>\n",
       "      <td>Receivables</td>\n",
       "      <td>Assets</td>\n",
       "      <td>+</td>\n",
       "      <td>None</td>\n",
       "      <td>Currency</td>\n",
       "      <td>None</td>\n",
       "    </tr>\n",
       "  </tbody>\n",
       "</table>\n",
       "</div>"
      ],
      "text/plain": [
       "   AccountKey  ParentAccountKey  AccountCodeAlternateKey  \\\n",
       "0         1.0               NaN                      1.0   \n",
       "1         2.0               1.0                     10.0   \n",
       "2         3.0               2.0                    110.0   \n",
       "3         4.0               3.0                   1110.0   \n",
       "4         5.0               3.0                   1120.0   \n",
       "\n",
       "   ParentAccountCodeAlternateKey AccountDescription AccountType Operator  \\\n",
       "0                            NaN      Balance Sheet        None        ~   \n",
       "1                            1.0             Assets      Assets        +   \n",
       "2                           10.0     Current Assets      Assets        +   \n",
       "3                          110.0               Cash      Assets        +   \n",
       "4                          110.0        Receivables      Assets        +   \n",
       "\n",
       "  CustomMembers ValueType CustomMemberOptions  \n",
       "0          None  Currency                None  \n",
       "1          None  Currency                None  \n",
       "2          None  Currency                None  \n",
       "3          None  Currency                None  \n",
       "4          None  Currency                None  "
      ]
     },
     "execution_count": 4,
     "metadata": {},
     "output_type": "execute_result"
    }
   ],
   "source": [
    "df.head()"
   ]
  },
  {
   "cell_type": "code",
   "execution_count": 5,
   "metadata": {},
   "outputs": [
    {
     "data": {
      "text/plain": [
       "Index(['AccountKey', 'ParentAccountKey', 'AccountCodeAlternateKey',\n",
       "       'ParentAccountCodeAlternateKey', 'AccountDescription', 'AccountType',\n",
       "       'Operator', 'CustomMembers', 'ValueType', 'CustomMemberOptions'],\n",
       "      dtype='object')"
      ]
     },
     "execution_count": 5,
     "metadata": {},
     "output_type": "execute_result"
    }
   ],
   "source": [
    "df.columns"
   ]
  },
  {
   "cell_type": "code",
   "execution_count": 23,
   "metadata": {},
   "outputs": [
    {
     "data": {
      "text/plain": [
       "True"
      ]
     },
     "execution_count": 23,
     "metadata": {},
     "output_type": "execute_result"
    }
   ],
   "source": [
    "# check wether the accountKey is unique\n",
    "df.AccountKey.is_unique"
   ]
  },
  {
   "cell_type": "code",
   "execution_count": 25,
   "metadata": {},
   "outputs": [
    {
     "data": {
      "text/plain": [
       "0       1.0\n",
       "1       2.0\n",
       "2       3.0\n",
       "3       4.0\n",
       "4       5.0\n",
       "      ...  \n",
       "94     97.0\n",
       "95     98.0\n",
       "96     99.0\n",
       "97    100.0\n",
       "98    101.0\n",
       "Name: AccountKey, Length: 99, dtype: float64"
      ]
     },
     "execution_count": 25,
     "metadata": {},
     "output_type": "execute_result"
    }
   ],
   "source": [
    "df.AccountKey"
   ]
  },
  {
   "cell_type": "code",
   "execution_count": null,
   "metadata": {},
   "outputs": [],
   "source": []
  }
 ],
 "metadata": {
  "interpreter": {
   "hash": "235a8b4d5a1c8969e3f7a7275dc5df41558e4b2db3942be74c344d4b21c0fe11"
  },
  "kernelspec": {
   "display_name": "Python 3.8.12 ('remote')",
   "language": "python",
   "name": "python3"
  },
  "language_info": {
   "codemirror_mode": {
    "name": "ipython",
    "version": 3
   },
   "file_extension": ".py",
   "mimetype": "text/x-python",
   "name": "python",
   "nbconvert_exporter": "python",
   "pygments_lexer": "ipython3",
   "version": "3.8.12"
  },
  "orig_nbformat": 4
 },
 "nbformat": 4,
 "nbformat_minor": 2
}
