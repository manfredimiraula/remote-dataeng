{
 "cells": [
  {
   "cell_type": "code",
   "execution_count": 24,
   "metadata": {},
   "outputs": [],
   "source": [
    "import pandas as pd\n",
    "import numpy as np\n",
    "\n",
    "from modules.utils.utils import read_json , initialize_tables_in_db, load_to_postgres, build_connection_engine\n",
    "from pathlib import Path\n",
    "import seaborn as sns\n",
    "import matplotlib.pyplot as plt\n",
    "\n",
    "sns.set(style=\"darkgrid\")\n",
    "\n",
    "p = Path(\".\")\n",
    "\n",
    "config = read_json(p / \"modules\"/\"config.json\")\n",
    "table_schema = 'remote'\n",
    "conn_s = build_connection_engine(config, 's')"
   ]
  },
  {
   "cell_type": "markdown",
   "metadata": {},
   "source": [
    "# Questions\n",
    "\n",
    "## Q1 . Find the Highest Transaction of each month in the year 2012 for the Product \"Sport-100 Helmet, Red\""
   ]
  },
  {
   "cell_type": "code",
   "execution_count": 2,
   "metadata": {},
   "outputs": [],
   "source": [
    "qa1 = pd.read_sql_query(\"\"\"\n",
    "WITH data AS (\n",
    "SELECT \n",
    "\tdp.\"ProductKey\", \n",
    "\tEXTRACT(YEAR FROM  frs.\"OrderDate\") as year_order,\n",
    "\tdate_trunc('month', frs.\"OrderDate\") as month,\n",
    "\tfrs.\"OrderDate\" as order_date, \n",
    "\tfrs.\"SalesAmount\" as sales_amount\n",
    "\n",
    "FROM \n",
    "\tremote.factresellersales_normalized frs\n",
    "JOIN \n",
    "\tremote.dimproduct_normalized dp\n",
    "\tON dp.\"ProductKey\" = frs.\"ProductKey\"\n",
    "WHERE \n",
    "\tdp.\"ProductName\" LIKE 'Sport-100 Helmet, Red'\n",
    "\tAND EXTRACT(YEAR FROM  frs.\"OrderDate\") = 2012\n",
    ")\n",
    "\n",
    "SELECT \n",
    "\tmonth, sales_amount, order_date\n",
    "FROM (\n",
    "\tSELECT \n",
    "\t\tmonth, sales_amount, order_date, \n",
    "\t\tRANK() OVER (\n",
    "\t\tPARTITION BY month order by sales_amount desc ) as rnk\n",
    "\tFROM data\n",
    "\tORDER BY month desc, sales_amount desc\n",
    ") as base\n",
    "WHERE \n",
    "\trnk = 1\n",
    "order by month asc\n",
    "\"\"\",con=conn_s)\n",
    "\n",
    "df = qa1.copy()"
   ]
  },
  {
   "cell_type": "code",
   "execution_count": 5,
   "metadata": {},
   "outputs": [
    {
     "data": {
      "text/html": [
       "<div>\n",
       "<style scoped>\n",
       "    .dataframe tbody tr th:only-of-type {\n",
       "        vertical-align: middle;\n",
       "    }\n",
       "\n",
       "    .dataframe tbody tr th {\n",
       "        vertical-align: top;\n",
       "    }\n",
       "\n",
       "    .dataframe thead th {\n",
       "        text-align: right;\n",
       "    }\n",
       "</style>\n",
       "<table border=\"1\" class=\"dataframe\">\n",
       "  <thead>\n",
       "    <tr style=\"text-align: right;\">\n",
       "      <th></th>\n",
       "      <th>month</th>\n",
       "      <th>sales_amount</th>\n",
       "      <th>order_date</th>\n",
       "    </tr>\n",
       "  </thead>\n",
       "  <tbody>\n",
       "    <tr>\n",
       "      <th>0</th>\n",
       "      <td>2012-01-01</td>\n",
       "      <td>267.7266</td>\n",
       "      <td>2012-01-29</td>\n",
       "    </tr>\n",
       "    <tr>\n",
       "      <th>1</th>\n",
       "      <td>2012-02-01</td>\n",
       "      <td>421.8980</td>\n",
       "      <td>2012-02-29</td>\n",
       "    </tr>\n",
       "    <tr>\n",
       "      <th>2</th>\n",
       "      <td>2012-03-01</td>\n",
       "      <td>229.4799</td>\n",
       "      <td>2012-03-30</td>\n",
       "    </tr>\n",
       "    <tr>\n",
       "      <th>3</th>\n",
       "      <td>2012-04-01</td>\n",
       "      <td>210.3566</td>\n",
       "      <td>2012-04-30</td>\n",
       "    </tr>\n",
       "    <tr>\n",
       "      <th>4</th>\n",
       "      <td>2012-05-01</td>\n",
       "      <td>229.4799</td>\n",
       "      <td>2012-05-30</td>\n",
       "    </tr>\n",
       "    <tr>\n",
       "      <th>5</th>\n",
       "      <td>2012-06-01</td>\n",
       "      <td>141.3055</td>\n",
       "      <td>2012-06-30</td>\n",
       "    </tr>\n",
       "    <tr>\n",
       "      <th>6</th>\n",
       "      <td>2012-07-01</td>\n",
       "      <td>161.4920</td>\n",
       "      <td>2012-07-31</td>\n",
       "    </tr>\n",
       "    <tr>\n",
       "      <th>7</th>\n",
       "      <td>2012-08-01</td>\n",
       "      <td>201.8650</td>\n",
       "      <td>2012-08-28</td>\n",
       "    </tr>\n",
       "    <tr>\n",
       "      <th>8</th>\n",
       "      <td>2012-09-01</td>\n",
       "      <td>267.7266</td>\n",
       "      <td>2012-09-28</td>\n",
       "    </tr>\n",
       "    <tr>\n",
       "      <th>9</th>\n",
       "      <td>2012-10-01</td>\n",
       "      <td>229.4799</td>\n",
       "      <td>2012-10-28</td>\n",
       "    </tr>\n",
       "    <tr>\n",
       "      <th>10</th>\n",
       "      <td>2012-11-01</td>\n",
       "      <td>298.8444</td>\n",
       "      <td>2012-11-28</td>\n",
       "    </tr>\n",
       "    <tr>\n",
       "      <th>11</th>\n",
       "      <td>2012-12-01</td>\n",
       "      <td>321.2082</td>\n",
       "      <td>2012-12-28</td>\n",
       "    </tr>\n",
       "  </tbody>\n",
       "</table>\n",
       "</div>"
      ],
      "text/plain": [
       "        month  sales_amount order_date\n",
       "0  2012-01-01      267.7266 2012-01-29\n",
       "1  2012-02-01      421.8980 2012-02-29\n",
       "2  2012-03-01      229.4799 2012-03-30\n",
       "3  2012-04-01      210.3566 2012-04-30\n",
       "4  2012-05-01      229.4799 2012-05-30\n",
       "5  2012-06-01      141.3055 2012-06-30\n",
       "6  2012-07-01      161.4920 2012-07-31\n",
       "7  2012-08-01      201.8650 2012-08-28\n",
       "8  2012-09-01      267.7266 2012-09-28\n",
       "9  2012-10-01      229.4799 2012-10-28\n",
       "10 2012-11-01      298.8444 2012-11-28\n",
       "11 2012-12-01      321.2082 2012-12-28"
      ]
     },
     "metadata": {},
     "output_type": "display_data"
    }
   ],
   "source": [
    "display(df)"
   ]
  },
  {
   "cell_type": "code",
   "execution_count": 35,
   "metadata": {},
   "outputs": [
    {
     "name": "stderr",
     "output_type": "stream",
     "text": [
      "/Users/manfredi/miniconda3/envs/remote/lib/python3.8/site-packages/seaborn/_decorators.py:36: FutureWarning: Pass the following variables as keyword args: x, y. From version 0.12, the only valid positional argument will be `data`, and passing other arguments without an explicit keyword will result in an error or misinterpretation.\n",
      "  warnings.warn(\n"
     ]
    },
    {
     "data": {
      "text/plain": [
       "<AxesSubplot:xlabel='month'>"
      ]
     },
     "execution_count": 35,
     "metadata": {},
     "output_type": "execute_result"
    },
    {
     "data": {
      "image/png": "[encoded data removed]",
      "text/plain": [
       "<Figure size 432x288 with 1 Axes>"
      ]
     },
     "metadata": {},
     "output_type": "display_data"
    }
   ],
   "source": [
    "sns.barplot(df.month.dt.month, df.sales_amount.values, palette=\"Blues_d\") "
   ]
  },
  {
   "cell_type": "markdown",
   "metadata": {},
   "source": [
    "## Q2. Find the lowest revenue-generating product for each month in the Year – **2012**.  Include the **Sales Territory Country** as well.\n",
    "\n",
    "Given that the focus, based on the question, seems to be the product rather than the cross product between product and sales territory, I'm assuming that the expected output would be to have the 12 months of the year with the lowest selling product with the additional information of the country.\n",
    "\n",
    "I used to different angles to explore the data, focusing on the country and on the product. The chart that shows the lowest selling product by country suggests a nice insights that the UK is often present with low selling products"
   ]
  },
  {
   "cell_type": "code",
   "execution_count": null,
   "metadata": {},
   "outputs": [],
   "source": [
    "qa2 = pd.read_sql_query(\"\"\"\n",
    "WITH data AS (\n",
    "SELECT \n",
    " dp.\"ProductName\" AS product_name, \n",
    " dst.\"SalesTerritoryCountry\" AS sales_territory_country,\n",
    " date_trunc('month', frs.\"ShipDate\") AS month,\n",
    " SUM(frs.\"SalesAmount\") AS sales_amount\n",
    "\n",
    "FROM \n",
    "\tremote.factresellersales_normalized frs\n",
    "JOIN \n",
    "\tremote.dimproduct_normalized dp\n",
    "\tON dp.\"ProductKey\" = frs.\"ProductKey\"\n",
    "JOIN \n",
    "\tremote.dimsalesterritory_normalized dst\n",
    "\tON frs.\"SalesTerritoryKey\" = dst.\"SalesTerritoryKey\"\n",
    "WHERE \n",
    "\tEXTRACT(YEAR FROM  frs.\"ShipDate\") = 2012\n",
    "GROUP BY product_name, sales_territory_country, month\n",
    ")\n",
    "\n",
    "SELECT \n",
    "\tDISTINCT\n",
    "\tmonth, sales_territory_country, product_name, sales_amount\n",
    "FROM (\n",
    "\tSELECT \n",
    "\t\tmonth, sales_territory_country, product_name, sales_amount,\n",
    "\t\tRANK() OVER (\n",
    "\t\tPARTITION BY month order by sales_amount asc ) AS rnk\n",
    "\tFROM data\n",
    "\tORDER BY month DESC, sales_amount ASC\n",
    ") as base\n",
    "WHERE \n",
    "\trnk = 1\n",
    "ORDER BY month ASC\"\"\",con=conn_s)\n",
    "\n",
    "df = qa2.copy()"
   ]
  },
  {
   "cell_type": "code",
   "execution_count": 20,
   "metadata": {},
   "outputs": [
    {
     "data": {
      "text/html": [
       "<div>\n",
       "<style scoped>\n",
       "    .dataframe tbody tr th:only-of-type {\n",
       "        vertical-align: middle;\n",
       "    }\n",
       "\n",
       "    .dataframe tbody tr th {\n",
       "        vertical-align: top;\n",
       "    }\n",
       "\n",
       "    .dataframe thead th {\n",
       "        text-align: right;\n",
       "    }\n",
       "</style>\n",
       "<table border=\"1\" class=\"dataframe\">\n",
       "  <thead>\n",
       "    <tr style=\"text-align: right;\">\n",
       "      <th></th>\n",
       "      <th>month</th>\n",
       "      <th>sales_territory_country</th>\n",
       "      <th>product_name</th>\n",
       "      <th>sales_amount</th>\n",
       "    </tr>\n",
       "  </thead>\n",
       "  <tbody>\n",
       "    <tr>\n",
       "      <th>0</th>\n",
       "      <td>2012-01-01</td>\n",
       "      <td>France</td>\n",
       "      <td>Half-Finger Gloves, S</td>\n",
       "      <td>28.2578</td>\n",
       "    </tr>\n",
       "    <tr>\n",
       "      <th>1</th>\n",
       "      <td>2012-02-01</td>\n",
       "      <td>United Kingdom</td>\n",
       "      <td>LL Road Handlebars</td>\n",
       "      <td>24.2945</td>\n",
       "    </tr>\n",
       "    <tr>\n",
       "      <th>2</th>\n",
       "      <td>2012-03-01</td>\n",
       "      <td>France</td>\n",
       "      <td>AWC Logo Cap</td>\n",
       "      <td>10.3730</td>\n",
       "    </tr>\n",
       "    <tr>\n",
       "      <th>3</th>\n",
       "      <td>2012-04-01</td>\n",
       "      <td>United Kingdom</td>\n",
       "      <td>Half-Finger Gloves, L</td>\n",
       "      <td>14.1289</td>\n",
       "    </tr>\n",
       "    <tr>\n",
       "      <th>4</th>\n",
       "      <td>2012-05-01</td>\n",
       "      <td>Canada</td>\n",
       "      <td>LL Mountain Handlebars</td>\n",
       "      <td>24.2945</td>\n",
       "    </tr>\n",
       "    <tr>\n",
       "      <th>5</th>\n",
       "      <td>2012-06-01</td>\n",
       "      <td>United Kingdom</td>\n",
       "      <td>AWC Logo Cap</td>\n",
       "      <td>10.3730</td>\n",
       "    </tr>\n",
       "    <tr>\n",
       "      <th>6</th>\n",
       "      <td>2012-07-01</td>\n",
       "      <td>France</td>\n",
       "      <td>AWC Logo Cap</td>\n",
       "      <td>10.3730</td>\n",
       "    </tr>\n",
       "    <tr>\n",
       "      <th>7</th>\n",
       "      <td>2012-08-01</td>\n",
       "      <td>United Kingdom</td>\n",
       "      <td>Minipump</td>\n",
       "      <td>23.9880</td>\n",
       "    </tr>\n",
       "    <tr>\n",
       "      <th>8</th>\n",
       "      <td>2012-09-01</td>\n",
       "      <td>France</td>\n",
       "      <td>Half-Finger Gloves, S</td>\n",
       "      <td>14.1289</td>\n",
       "    </tr>\n",
       "    <tr>\n",
       "      <th>9</th>\n",
       "      <td>2012-10-01</td>\n",
       "      <td>United Kingdom</td>\n",
       "      <td>Minipump</td>\n",
       "      <td>11.9940</td>\n",
       "    </tr>\n",
       "    <tr>\n",
       "      <th>10</th>\n",
       "      <td>2012-11-01</td>\n",
       "      <td>United Kingdom</td>\n",
       "      <td>Full-Finger Gloves, S</td>\n",
       "      <td>22.7940</td>\n",
       "    </tr>\n",
       "    <tr>\n",
       "      <th>11</th>\n",
       "      <td>2012-12-01</td>\n",
       "      <td>United Kingdom</td>\n",
       "      <td>Half-Finger Gloves, L</td>\n",
       "      <td>14.1289</td>\n",
       "    </tr>\n",
       "  </tbody>\n",
       "</table>\n",
       "</div>"
      ],
      "text/plain": [
       "        month sales_territory_country            product_name  sales_amount\n",
       "0  2012-01-01                  France   Half-Finger Gloves, S       28.2578\n",
       "1  2012-02-01          United Kingdom      LL Road Handlebars       24.2945\n",
       "2  2012-03-01                  France            AWC Logo Cap       10.3730\n",
       "3  2012-04-01          United Kingdom   Half-Finger Gloves, L       14.1289\n",
       "4  2012-05-01                  Canada  LL Mountain Handlebars       24.2945\n",
       "5  2012-06-01          United Kingdom            AWC Logo Cap       10.3730\n",
       "6  2012-07-01                  France            AWC Logo Cap       10.3730\n",
       "7  2012-08-01          United Kingdom                Minipump       23.9880\n",
       "8  2012-09-01                  France   Half-Finger Gloves, S       14.1289\n",
       "9  2012-10-01          United Kingdom                Minipump       11.9940\n",
       "10 2012-11-01          United Kingdom   Full-Finger Gloves, S       22.7940\n",
       "11 2012-12-01          United Kingdom   Half-Finger Gloves, L       14.1289"
      ]
     },
     "metadata": {},
     "output_type": "display_data"
    }
   ],
   "source": [
    "display(qa2)"
   ]
  },
  {
   "cell_type": "code",
   "execution_count": 39,
   "metadata": {},
   "outputs": [
    {
     "name": "stderr",
     "output_type": "stream",
     "text": [
      "/Users/manfredi/miniconda3/envs/remote/lib/python3.8/site-packages/seaborn/_decorators.py:36: FutureWarning: Pass the following variables as keyword args: x, y. From version 0.12, the only valid positional argument will be `data`, and passing other arguments without an explicit keyword will result in an error or misinterpretation.\n",
      "  warnings.warn(\n"
     ]
    },
    {
     "data": {
      "image/png": "[encoded data removed]",
      "text/plain": [
       "<Figure size 432x288 with 1 Axes>"
      ]
     },
     "metadata": {},
     "output_type": "display_data"
    }
   ],
   "source": [
    "fig, ax1 = plt.subplots(1,1, figsize = (6, 4))\n",
    "\n",
    "f = sns.barplot(df.month.dt.month, df.sales_amount.values, hue=df.sales_territory_country)\n",
    "\n",
    "box = f.get_position()\n",
    "f.set_position([box.x0, box.y0, box.width * 0.85, box.height]) # resize position\n",
    "\n",
    "# Put a legend to the right side\n",
    "f.legend(loc='center right', bbox_to_anchor=(1.25, 1.0), ncol=1)\n",
    "\n",
    "plt.show()"
   ]
  },
  {
   "cell_type": "code",
   "execution_count": 40,
   "metadata": {},
   "outputs": [
    {
     "name": "stderr",
     "output_type": "stream",
     "text": [
      "/Users/manfredi/miniconda3/envs/remote/lib/python3.8/site-packages/seaborn/_decorators.py:36: FutureWarning: Pass the following variables as keyword args: x, y. From version 0.12, the only valid positional argument will be `data`, and passing other arguments without an explicit keyword will result in an error or misinterpretation.\n",
      "  warnings.warn(\n"
     ]
    },
    {
     "data": {
      "image/png": "[encoded data removed]",
      "text/plain": [
       "<Figure size 432x288 with 1 Axes>"
      ]
     },
     "metadata": {},
     "output_type": "display_data"
    }
   ],
   "source": [
    "fig, ax1 = plt.subplots(1,1, figsize = (6, 4))\n",
    "\n",
    "f = sns.barplot(df.month.dt.month, df.sales_amount.values, hue=df.product_name)\n",
    "\n",
    "box = f.get_position()\n",
    "f.set_position([box.x0, box.y0, box.width * 0.85, box.height]) # resize position\n",
    "\n",
    "# Put a legend to the right side\n",
    "f.legend(loc='center right', bbox_to_anchor=(1.25, 1.0), ncol=1)\n",
    "\n",
    "plt.show()"
   ]
  },
  {
   "cell_type": "markdown",
   "metadata": {},
   "source": [
    "## Q3 . Find the Average Finance Amount for each Scenario for each Account Type for the year 2011\n",
    "\n",
    "By exploring the table FactFinance I notice that I only see two ScenarioKey (1,2), corresponding to Budget and Actual. There is no \"Forecast\" Scenario. In my mind this makes sense if the data I'm looking at is historical, thus there won't be any forecast but only actuals. The presence of Budget of Revenue and Expenditure suggests that these line items are kept as benchmark against the actual (personal interpretation)\n"
   ]
  },
  {
   "cell_type": "code",
   "execution_count": 44,
   "metadata": {},
   "outputs": [],
   "source": [
    "qa3 = pd.read_sql_query (\"\"\"\n",
    "\n",
    "SELECT \n",
    "\tda.\"AccountType\",\n",
    "\tAVG(CASE WHEN ds.\"ScenarioName\" LIKE 'Actual' THEN ff.\"Amount\" END) AS ActualScenario,\n",
    "\tAVG(CASE WHEN ds.\"ScenarioName\" LIKE 'Budget' THEN ff.\"Amount\" END) as BudgetScenario, \n",
    "\tAVG(CASE WHEN ds.\"ScenarioName\" LIKE 'Forecast' THEN ff.\"Amount\" END) AS ForecastScenario \n",
    "FROM \n",
    "\tremote.factfinance_normalized ff\n",
    "JOIN \n",
    "\tremote.dimaccounts_normalized da\n",
    "\tON da.\"AccountKey\" = ff.\"AccountKey\"\n",
    "JOIN \n",
    "\tremote.dimscenario_normalized ds\n",
    "\tON ds.\"ScenarioKey\" = ff.\"ScenarioKey\"\n",
    "WHERE \n",
    "\tEXTRACT(YEAR FROM  ff.\"Date\") = 2011\n",
    "GROUP BY da.\"AccountType\"\n",
    "\n",
    "\"\"\", con = conn_s)\n",
    "\n",
    "df = qa3.copy()"
   ]
  },
  {
   "cell_type": "code",
   "execution_count": 45,
   "metadata": {},
   "outputs": [
    {
     "data": {
      "text/html": [
       "<div>\n",
       "<style scoped>\n",
       "    .dataframe tbody tr th:only-of-type {\n",
       "        vertical-align: middle;\n",
       "    }\n",
       "\n",
       "    .dataframe tbody tr th {\n",
       "        vertical-align: top;\n",
       "    }\n",
       "\n",
       "    .dataframe thead th {\n",
       "        text-align: right;\n",
       "    }\n",
       "</style>\n",
       "<table border=\"1\" class=\"dataframe\">\n",
       "  <thead>\n",
       "    <tr style=\"text-align: right;\">\n",
       "      <th></th>\n",
       "      <th>AccountType</th>\n",
       "      <th>actualscenario</th>\n",
       "      <th>budgetscenario</th>\n",
       "      <th>forecastscenario</th>\n",
       "    </tr>\n",
       "  </thead>\n",
       "  <tbody>\n",
       "    <tr>\n",
       "      <th>0</th>\n",
       "      <td>Revenue</td>\n",
       "      <td>30876.129243</td>\n",
       "      <td>186287.878788</td>\n",
       "      <td>None</td>\n",
       "    </tr>\n",
       "    <tr>\n",
       "      <th>1</th>\n",
       "      <td>Liabilities</td>\n",
       "      <td>119785.411384</td>\n",
       "      <td>NaN</td>\n",
       "      <td>None</td>\n",
       "    </tr>\n",
       "    <tr>\n",
       "      <th>2</th>\n",
       "      <td>Expenditures</td>\n",
       "      <td>3647.767538</td>\n",
       "      <td>3757.806122</td>\n",
       "      <td>None</td>\n",
       "    </tr>\n",
       "    <tr>\n",
       "      <th>3</th>\n",
       "      <td>Balances</td>\n",
       "      <td>11256.932886</td>\n",
       "      <td>NaN</td>\n",
       "      <td>None</td>\n",
       "    </tr>\n",
       "    <tr>\n",
       "      <th>4</th>\n",
       "      <td>Flow</td>\n",
       "      <td>382.445946</td>\n",
       "      <td>NaN</td>\n",
       "      <td>None</td>\n",
       "    </tr>\n",
       "    <tr>\n",
       "      <th>5</th>\n",
       "      <td>Assets</td>\n",
       "      <td>110701.156199</td>\n",
       "      <td>NaN</td>\n",
       "      <td>None</td>\n",
       "    </tr>\n",
       "  </tbody>\n",
       "</table>\n",
       "</div>"
      ],
      "text/plain": [
       "    AccountType  actualscenario  budgetscenario forecastscenario\n",
       "0       Revenue    30876.129243   186287.878788             None\n",
       "1   Liabilities   119785.411384             NaN             None\n",
       "2  Expenditures     3647.767538     3757.806122             None\n",
       "3      Balances    11256.932886             NaN             None\n",
       "4          Flow      382.445946             NaN             None\n",
       "5        Assets   110701.156199             NaN             None"
      ]
     },
     "metadata": {},
     "output_type": "display_data"
    }
   ],
   "source": [
    "display(df)"
   ]
  },
  {
   "cell_type": "code",
   "execution_count": 58,
   "metadata": {},
   "outputs": [
    {
     "data": {
      "text/plain": [
       "<AxesSubplot:>"
      ]
     },
     "execution_count": 58,
     "metadata": {},
     "output_type": "execute_result"
    },
    {
     "data": {
      "image/png": "[encoded data removed]",
      "text/plain": [
       "<Figure size 432x288 with 1 Axes>"
      ]
     },
     "metadata": {},
     "output_type": "display_data"
    }
   ],
   "source": [
    "img = pd.DataFrame(\n",
    "    {\n",
    "        'ActualScenario': list(df.actualscenario), \n",
    "        'BudgetScenario': list(df.budgetscenario), \n",
    "        'ForecastScenario': list(df.forecastscenario), \n",
    "    },\n",
    "    index = list(df.AccountType)\n",
    ")\n",
    "img.plot.bar()"
   ]
  },
  {
   "cell_type": "markdown",
   "metadata": {},
   "source": [
    "## Q4. Find all the products and their Total Sales Amount by Month of order which does have sales in the year – 2012\n",
    "\n",
    "We have a number of product keys, so the visualization is very clogged. A way I would use to improve the redeability of this visualization is to use Product Categories rather than product keys to see driving trends for products belonging to the same category."
   ]
  },
  {
   "cell_type": "code",
   "execution_count": 64,
   "metadata": {},
   "outputs": [],
   "source": [
    "qa4 = pd.read_sql_query(\"\"\"\n",
    "SELECT \n",
    "\tdp.\"ProductKey\",\n",
    "\tSUM(frs.\"SalesAmount\") as SalesAmount,\n",
    "\tdate_trunc('month', frs.\"OrderDate\") AS OrderMonth\n",
    "\t\n",
    "FROM \n",
    "\tremote.factresellersales_normalized frs\n",
    "JOIN \n",
    "\tremote.dimproduct_normalized dp\n",
    "\tON dp.\"ProductKey\" = frs.\"ProductKey\"\n",
    "WHERE \n",
    "\tEXTRACT(YEAR FROM  frs.\"OrderDate\") = 2012\n",
    "\tAND frs.\"SalesAmount\" > 0\n",
    "GROUP BY dp.\"ProductKey\", OrderMonth\n",
    "ORDER BY dp.\"ProductKey\", OrderMonth asc\n",
    "\"\"\", con = conn_s)\n",
    "\n",
    "df = qa4.copy()"
   ]
  },
  {
   "cell_type": "code",
   "execution_count": 86,
   "metadata": {},
   "outputs": [
    {
     "data": {
      "text/html": [
       "<div>\n",
       "<style scoped>\n",
       "    .dataframe tbody tr th:only-of-type {\n",
       "        vertical-align: middle;\n",
       "    }\n",
       "\n",
       "    .dataframe tbody tr th {\n",
       "        vertical-align: top;\n",
       "    }\n",
       "\n",
       "    .dataframe thead th {\n",
       "        text-align: right;\n",
       "    }\n",
       "</style>\n",
       "<table border=\"1\" class=\"dataframe\">\n",
       "  <thead>\n",
       "    <tr style=\"text-align: right;\">\n",
       "      <th></th>\n",
       "      <th>ProductKey</th>\n",
       "      <th>salesamount</th>\n",
       "      <th>ordermonth</th>\n",
       "    </tr>\n",
       "  </thead>\n",
       "  <tbody>\n",
       "    <tr>\n",
       "      <th>0</th>\n",
       "      <td>213</td>\n",
       "      <td>4305.0266</td>\n",
       "      <td>2012-01-01</td>\n",
       "    </tr>\n",
       "    <tr>\n",
       "      <th>1</th>\n",
       "      <td>213</td>\n",
       "      <td>3874.8251</td>\n",
       "      <td>2012-02-01</td>\n",
       "    </tr>\n",
       "    <tr>\n",
       "      <th>2</th>\n",
       "      <td>213</td>\n",
       "      <td>2167.3839</td>\n",
       "      <td>2012-03-01</td>\n",
       "    </tr>\n",
       "    <tr>\n",
       "      <th>3</th>\n",
       "      <td>213</td>\n",
       "      <td>2955.7206</td>\n",
       "      <td>2012-04-01</td>\n",
       "    </tr>\n",
       "    <tr>\n",
       "      <th>4</th>\n",
       "      <td>213</td>\n",
       "      <td>2268.3164</td>\n",
       "      <td>2012-05-01</td>\n",
       "    </tr>\n",
       "    <tr>\n",
       "      <th>...</th>\n",
       "      <td>...</td>\n",
       "      <td>...</td>\n",
       "      <td>...</td>\n",
       "    </tr>\n",
       "    <tr>\n",
       "      <th>1059</th>\n",
       "      <td>601</td>\n",
       "      <td>907.0320</td>\n",
       "      <td>2012-12-01</td>\n",
       "    </tr>\n",
       "    <tr>\n",
       "      <th>1060</th>\n",
       "      <td>603</td>\n",
       "      <td>2478.3960</td>\n",
       "      <td>2012-12-01</td>\n",
       "    </tr>\n",
       "    <tr>\n",
       "      <th>1061</th>\n",
       "      <td>604</td>\n",
       "      <td>3887.9280</td>\n",
       "      <td>2012-12-01</td>\n",
       "    </tr>\n",
       "    <tr>\n",
       "      <th>1062</th>\n",
       "      <td>605</td>\n",
       "      <td>37352.4583</td>\n",
       "      <td>2012-12-01</td>\n",
       "    </tr>\n",
       "    <tr>\n",
       "      <th>1063</th>\n",
       "      <td>606</td>\n",
       "      <td>30131.0100</td>\n",
       "      <td>2012-12-01</td>\n",
       "    </tr>\n",
       "  </tbody>\n",
       "</table>\n",
       "<p>1064 rows × 3 columns</p>\n",
       "</div>"
      ],
      "text/plain": [
       "      ProductKey  salesamount ordermonth\n",
       "0            213    4305.0266 2012-01-01\n",
       "1            213    3874.8251 2012-02-01\n",
       "2            213    2167.3839 2012-03-01\n",
       "3            213    2955.7206 2012-04-01\n",
       "4            213    2268.3164 2012-05-01\n",
       "...          ...          ...        ...\n",
       "1059         601     907.0320 2012-12-01\n",
       "1060         603    2478.3960 2012-12-01\n",
       "1061         604    3887.9280 2012-12-01\n",
       "1062         605   37352.4583 2012-12-01\n",
       "1063         606   30131.0100 2012-12-01\n",
       "\n",
       "[1064 rows x 3 columns]"
      ]
     },
     "metadata": {},
     "output_type": "display_data"
    }
   ],
   "source": [
    "display(df)"
   ]
  },
  {
   "cell_type": "code",
   "execution_count": 90,
   "metadata": {},
   "outputs": [
    {
     "name": "stderr",
     "output_type": "stream",
     "text": [
      "/var/folders/c2/pkzg7ljn0jb73c5wmvht_8ch0000gn/T/ipykernel_57586/597706832.py:10: DeprecationWarning: `np.int` is a deprecated alias for the builtin `int`. To silence this warning, use `int` by itself. Doing this will not modify any behavior and is safe. When replacing `np.int`, you may wish to use e.g. `np.int64` or `np.int32` to specify the precision. If you wish to review your current use, check the release note link for additional information.\n",
      "Deprecated in NumPy 1.20; for more details and guidance: https://numpy.org/devdocs/release/1.20.0-notes.html#deprecations\n",
      "  y[np.int(row['ordermonth'].month) -1] =  row['salesamount']\n"
     ]
    },
    {
     "data": {
      "image/png": "[encoded data removed]",
      "text/plain": [
       "<Figure size 432x288 with 1 Axes>"
      ]
     },
     "metadata": {},
     "output_type": "display_data"
    }
   ],
   "source": [
    "x_axis = df.ordermonth.dt.month.unique()\n",
    "product_lst = list(df.ProductKey.unique())\n",
    "\n",
    "width = 0.35      \n",
    "fig, ax = plt.subplots()\n",
    "\n",
    "for prod in product_lst:\n",
    "    y = [0] * len(x_axis)\n",
    "    for ix, row in df[df['ProductKey']==prod].iterrows():\n",
    "        y[np.int(row['ordermonth'].month) -1] =  row['salesamount']\n",
    "    \n",
    "    ax.bar(x_axis, y, width, label=str(prod))\n",
    "\n",
    "ax.set_ylabel('SalesAmount')\n",
    "ax.set_title('SalesAmount by Product by Month in 2012')\n",
    "\n",
    "\n",
    "plt.show()\n",
    "\n"
   ]
  },
  {
   "cell_type": "markdown",
   "metadata": {},
   "source": [
    "## Q5 . 5. Write a query to find the age of the customers. Bucket them under **Age Group**\n",
    "\n",
    "1. We have negligible customers with Age less than 35\n",
    "2. We see overall slighly more females than than males in our customer base and this is tru for both higher age groups\n",
    "3. We have more singles in our 35-50 age group as customers. The ratio shifts when we focus on the older age group, that has more married customers\n"
   ]
  },
  {
   "cell_type": "code",
   "execution_count": 91,
   "metadata": {},
   "outputs": [],
   "source": [
    "qa5 = pd.read_sql_query ( \"\"\"\n",
    "WITH data AS (\n",
    "SELECT \n",
    "\tdc.\"MaritalStatus\" AS marital_status, \n",
    "\tdc.\"Gender\" AS gender, \n",
    "\t(DATE_PART('year', current_date::date) - DATE_PART('year', dc.\"BirthDate\"::date))::int AS age\n",
    "FROM \n",
    "\tremote.dimcustomer_normalized dc\n",
    ") \n",
    "\n",
    "SELECT \n",
    "\tmarital_status, \n",
    "\tgender, \n",
    "\tSUM(CASE WHEN age < 35 THEN 1 ELSE 0 END) AS age_less_than_35,\n",
    "\tSUM(CASE WHEN age >= 35 AND age <=50 THEN 1 ELSE 0 END) AS age_between_35_50,\n",
    "\tSUM(CASE WHEN age > 50 THEN 1 ELSE 0 END) AS age_more_than_50\n",
    "FROM \n",
    "\tdata\n",
    "GROUP BY marital_status, \n",
    "\tgender\n",
    "\"\"\", con = conn_s)\n",
    "\n",
    "df = qa5.copy()"
   ]
  },
  {
   "cell_type": "code",
   "execution_count": 92,
   "metadata": {},
   "outputs": [
    {
     "data": {
      "text/html": [
       "<div>\n",
       "<style scoped>\n",
       "    .dataframe tbody tr th:only-of-type {\n",
       "        vertical-align: middle;\n",
       "    }\n",
       "\n",
       "    .dataframe tbody tr th {\n",
       "        vertical-align: top;\n",
       "    }\n",
       "\n",
       "    .dataframe thead th {\n",
       "        text-align: right;\n",
       "    }\n",
       "</style>\n",
       "<table border=\"1\" class=\"dataframe\">\n",
       "  <thead>\n",
       "    <tr style=\"text-align: right;\">\n",
       "      <th></th>\n",
       "      <th>marital_status</th>\n",
       "      <th>gender</th>\n",
       "      <th>age_less_than_35</th>\n",
       "      <th>age_between_35_50</th>\n",
       "      <th>age_more_than_50</th>\n",
       "    </tr>\n",
       "  </thead>\n",
       "  <tbody>\n",
       "    <tr>\n",
       "      <th>0</th>\n",
       "      <td>M</td>\n",
       "      <td>M</td>\n",
       "      <td>5</td>\n",
       "      <td>2124</td>\n",
       "      <td>3137</td>\n",
       "    </tr>\n",
       "    <tr>\n",
       "      <th>1</th>\n",
       "      <td>S</td>\n",
       "      <td>M</td>\n",
       "      <td>3</td>\n",
       "      <td>2358</td>\n",
       "      <td>1724</td>\n",
       "    </tr>\n",
       "    <tr>\n",
       "      <th>2</th>\n",
       "      <td>M</td>\n",
       "      <td>F</td>\n",
       "      <td>8</td>\n",
       "      <td>1926</td>\n",
       "      <td>2811</td>\n",
       "    </tr>\n",
       "    <tr>\n",
       "      <th>3</th>\n",
       "      <td>S</td>\n",
       "      <td>F</td>\n",
       "      <td>2</td>\n",
       "      <td>2494</td>\n",
       "      <td>1892</td>\n",
       "    </tr>\n",
       "  </tbody>\n",
       "</table>\n",
       "</div>"
      ],
      "text/plain": [
       "  marital_status gender  age_less_than_35  age_between_35_50  age_more_than_50\n",
       "0              M      M                 5               2124              3137\n",
       "1              S      M                 3               2358              1724\n",
       "2              M      F                 8               1926              2811\n",
       "3              S      F                 2               2494              1892"
      ]
     },
     "metadata": {},
     "output_type": "display_data"
    }
   ],
   "source": [
    "display(df)"
   ]
  },
  {
   "cell_type": "code",
   "execution_count": 97,
   "metadata": {},
   "outputs": [
    {
     "data": {
      "text/plain": [
       "<AxesSubplot:>"
      ]
     },
     "execution_count": 97,
     "metadata": {},
     "output_type": "execute_result"
    },
    {
     "data": {
      "image/png": "[encoded data removed]",
      "text/plain": [
       "<Figure size 432x288 with 1 Axes>"
      ]
     },
     "metadata": {},
     "output_type": "display_data"
    }
   ],
   "source": [
    "gender = df.groupby('gender', as_index = False)[['age_less_than_35', 'age_between_35_50', 'age_more_than_50']].sum()\n",
    "\n",
    "img = pd.DataFrame(\n",
    "    {\n",
    "        'Age<35': list(gender.age_less_than_35), \n",
    "        'Age between 35-50': list(gender.age_between_35_50), \n",
    "        'Age>50': list(gender.age_more_than_50), \n",
    "    },\n",
    "    index = list(gender.gender)\n",
    ")\n",
    "img.plot.bar()"
   ]
  },
  {
   "cell_type": "code",
   "execution_count": 99,
   "metadata": {},
   "outputs": [
    {
     "data": {
      "text/plain": [
       "<AxesSubplot:>"
      ]
     },
     "execution_count": 99,
     "metadata": {},
     "output_type": "execute_result"
    },
    {
     "data": {
      "image/png": "[encoded data removed]",
      "text/plain": [
       "<Figure size 432x288 with 1 Axes>"
      ]
     },
     "metadata": {},
     "output_type": "display_data"
    }
   ],
   "source": [
    "marital_status = df.groupby('marital_status', as_index = False)[['age_less_than_35', 'age_between_35_50', 'age_more_than_50']].sum()\n",
    "\n",
    "img = pd.DataFrame(\n",
    "    {\n",
    "        'Age<35': list(marital_status.age_less_than_35), \n",
    "        'Age between 35-50': list(marital_status.age_between_35_50), \n",
    "        'Age>50': list(marital_status.age_more_than_50), \n",
    "    },\n",
    "    index = list(marital_status.marital_status)\n",
    ")\n",
    "img.plot.bar()"
   ]
  },
  {
   "cell_type": "code",
   "execution_count": null,
   "metadata": {},
   "outputs": [],
   "source": []
  }
 ],
 "metadata": {
  "interpreter": {
   "hash": "235a8b4d5a1c8969e3f7a7275dc5df41558e4b2db3942be74c344d4b21c0fe11"
  },
  "kernelspec": {
   "display_name": "Python 3.8.12 ('remote')",
   "language": "python",
   "name": "python3"
  },
  "language_info": {
   "codemirror_mode": {
    "name": "ipython",
    "version": 3
   },
   "file_extension": ".py",
   "mimetype": "text/x-python",
   "name": "python",
   "nbconvert_exporter": "python",
   "pygments_lexer": "ipython3",
   "version": "3.8.12"
  },
  "orig_nbformat": 4
 },
 "nbformat": 4,
 "nbformat_minor": 2
}
